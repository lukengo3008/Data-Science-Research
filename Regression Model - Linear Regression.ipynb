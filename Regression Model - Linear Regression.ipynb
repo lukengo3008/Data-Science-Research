{
 "cells": [
  {
   "cell_type": "markdown",
   "id": "ea8e0aca",
   "metadata": {},
   "source": [
    "# Abstract\n",
    "\n",
    "The concept of eco-anxiety, characterized by ongoing concerns about the future of the Earth and its ecosystems, is increasingly acknowledged as a noteworthy psychological state. This condition holds particular relevance for children, as they are considered more susceptible to experiencing such anxieties given their developmental phase and perceived limited influence over environmental matters. However, many may lack the inherent familial support systems that help mitigate stressors, such as eco-anxiety, making them a particularly vulnerable group that requires dedicated study to understand and address their unique needs and challenges.\n",
    "Thus, this study targets orphaned children, a group often overlooked in eco-anxiety research and lacking the traditional familial support mechanisms, to bridge the gap in understanding how alternative family-child bonding influences their experience of environmental concerns and the coping mechanisms for eco-anxiety. By examining the intersection of family-child bonds and the level of environmental awareness, the study could reveal tailored strategies for fostering resilience in orphaned children facing the dual challenges of environmental awareness and lack of traditional family structures.\n",
    "This research proposal outlines a study designed to investigate the mitigating effects of family-child bonding on environmental awareness among children, with a focus on the potential moderating role of gender. Using a blend of qualitative and quantitative research methods in Deep Learning, the study aims to measure the correlation between the quality of family-child bonding and environmental awareness levels in children, thereby providing critical insights that could guide the development of targeted interventions for this at-risk population."
   ]
  },
  {
   "cell_type": "markdown",
   "id": "3aa5a868",
   "metadata": {},
   "source": [
    "## Research Questions\n",
    "\n",
    "The following research questions are suggested for each of the research objectives as highlighted as follows.\n",
    "1.\tWhat is the impact of alternative family-child bonding on levels of environmental awareness among orphaned children?\n",
    "2.\tDoes gender correlate with the degree of environmental awareness by children?\n",
    "3.\tHow can social workers tailor their interventions to effectively raise environmental awareness in orphaned children, and do these interventions differ based on gender?"
   ]
  },
  {
   "cell_type": "markdown",
   "id": "947354a2",
   "metadata": {},
   "source": [
    "## Assumptions of Linear Regression:\n",
    "\n",
    "- The predicted values (family-child ponding) have linear relationship with the actual values (level of conciousness about climate change & gender).\n",
    "\n",
    "- Independent and normally distribution of error terms with constant variance, zero mean.\n",
    "\n",
    "- Multicollinearity: predictors are not correlated with each other."
   ]
  },
  {
   "cell_type": "markdown",
   "id": "a993df60",
   "metadata": {},
   "source": [
    "## Aim and Objectives\n",
    "\n",
    "The primary objective of this research is to deploy data science methodologies to quantify the impact of non-traditional family-child bonding interactions on environmental awareness in orphaned children. Additionally, the study aims to employ statistical analysis to uncover potential gender-based differences in environmental consciousness within this demographic. Through the utilization of regression models and possibly machine learning classifiers, the research seeks to identify and understand the patterns and predictors of environmental awareness, stratified by gender, in the context of varying familial bonds.\n",
    "The research goals are derived from the purpose of this study, which can be summarized as follows:\n",
    "•\tObject 1: To measure the correlation between the quality of family-child bonding and the levels of environmental awareness in children with the help of data science techniques using correlation coefficients and regression analysis to examine the strength and nature of the relationship. Predictive modeling would be considered to analyze how family-child bonding scenarios impact environmental awareness, leveraging Random Forest for a more nuanced understanding of these complex interactions.\n",
    "•\tObject 2: To assess gender differences in environmental awareness among children using statistical methods such as t-tests or ANOVA with the employment of quantitative metrics, such as the percentage of environmental awareness in male versus female children, coupled with statistical analysis techniques like chi-square tests for categorical data or logistic regression for odds ratio assessments.\n",
    "•\tObject 3: To measure and rank gender-responsive intervention strategies for social workers based on their relative efficacy in increasing environmental awareness among children by applying techniques such as decision tree analysis to identify key factors that contribute to their success, thereby providing actionable insights for targeted gender-specific programming."
   ]
  },
  {
   "cell_type": "markdown",
   "id": "28a1bfe0",
   "metadata": {},
   "source": [
    "# Step 1: Reading and Understanding the Data"
   ]
  },
  {
   "cell_type": "markdown",
   "id": "73a12b01",
   "metadata": {},
   "source": [
    "### Importing Relevant Libraries"
   ]
  },
  {
   "cell_type": "code",
   "execution_count": 1,
   "id": "86d80e50",
   "metadata": {},
   "outputs": [],
   "source": [
    "import numpy as np, pandas as pd, matplotlib.pyplot as plt, seaborn as sns\n",
    "import warnings\n",
    "warnings.filterwarnings('ignore')"
   ]
  },
  {
   "cell_type": "markdown",
   "id": "8979bf6a",
   "metadata": {},
   "source": [
    "### Understanding the dataset"
   ]
  },
  {
   "cell_type": "code",
   "execution_count": 2,
   "id": "749ff574",
   "metadata": {
    "scrolled": true
   },
   "outputs": [
    {
     "data": {
      "text/html": [
       "<div>\n",
       "<style scoped>\n",
       "    .dataframe tbody tr th:only-of-type {\n",
       "        vertical-align: middle;\n",
       "    }\n",
       "\n",
       "    .dataframe tbody tr th {\n",
       "        vertical-align: top;\n",
       "    }\n",
       "\n",
       "    .dataframe thead th {\n",
       "        text-align: right;\n",
       "    }\n",
       "</style>\n",
       "<table border=\"1\" class=\"dataframe\">\n",
       "  <thead>\n",
       "    <tr style=\"text-align: right;\">\n",
       "      <th></th>\n",
       "      <th>Participant number</th>\n",
       "      <th>Version</th>\n",
       "      <th>Age</th>\n",
       "      <th>Class</th>\n",
       "      <th>Gender</th>\n",
       "      <th>PREOE1</th>\n",
       "      <th>PREOE2</th>\n",
       "      <th>PREOE3</th>\n",
       "      <th>PREOE4</th>\n",
       "      <th>PREOE5</th>\n",
       "      <th>...</th>\n",
       "      <th>POSTCHECK16</th>\n",
       "      <th>NRCORRECTPRE</th>\n",
       "      <th>NRCORRECTPOST</th>\n",
       "      <th>LG</th>\n",
       "      <th>AVPREPE</th>\n",
       "      <th>AVPOSTOE</th>\n",
       "      <th>OEPoESPRE</th>\n",
       "      <th>OEPoESPOST</th>\n",
       "      <th>OEPoESDiff</th>\n",
       "      <th>OEPoESGain</th>\n",
       "    </tr>\n",
       "  </thead>\n",
       "  <tbody>\n",
       "    <tr>\n",
       "      <th>0</th>\n",
       "      <td>1</td>\n",
       "      <td>1</td>\n",
       "      <td>11.0</td>\n",
       "      <td>MYP1</td>\n",
       "      <td>Boy</td>\n",
       "      <td>5.0</td>\n",
       "      <td>4.0</td>\n",
       "      <td>4.0</td>\n",
       "      <td>4.0</td>\n",
       "      <td>4.0</td>\n",
       "      <td>...</td>\n",
       "      <td>1</td>\n",
       "      <td>6</td>\n",
       "      <td>11</td>\n",
       "      <td>0.500000</td>\n",
       "      <td>3.538462</td>\n",
       "      <td>3.846154</td>\n",
       "      <td>4.000000</td>\n",
       "      <td>4.1250</td>\n",
       "      <td>0.125000</td>\n",
       "      <td>0.125</td>\n",
       "    </tr>\n",
       "    <tr>\n",
       "      <th>1</th>\n",
       "      <td>2</td>\n",
       "      <td>1</td>\n",
       "      <td>11.0</td>\n",
       "      <td>MYP1</td>\n",
       "      <td>Boy</td>\n",
       "      <td>4.0</td>\n",
       "      <td>5.0</td>\n",
       "      <td>4.0</td>\n",
       "      <td>3.0</td>\n",
       "      <td>5.0</td>\n",
       "      <td>...</td>\n",
       "      <td>0</td>\n",
       "      <td>6</td>\n",
       "      <td>11</td>\n",
       "      <td>0.500000</td>\n",
       "      <td>4.153846</td>\n",
       "      <td>3.923077</td>\n",
       "      <td>4.375000</td>\n",
       "      <td>4.2500</td>\n",
       "      <td>-0.125000</td>\n",
       "      <td>-0.200</td>\n",
       "    </tr>\n",
       "    <tr>\n",
       "      <th>2</th>\n",
       "      <td>3</td>\n",
       "      <td>1</td>\n",
       "      <td>12.0</td>\n",
       "      <td>MYP1</td>\n",
       "      <td>NaN</td>\n",
       "      <td>5.0</td>\n",
       "      <td>4.0</td>\n",
       "      <td>3.0</td>\n",
       "      <td>3.0</td>\n",
       "      <td>2.0</td>\n",
       "      <td>...</td>\n",
       "      <td>1</td>\n",
       "      <td>9</td>\n",
       "      <td>13</td>\n",
       "      <td>0.571429</td>\n",
       "      <td>3.000000</td>\n",
       "      <td>3.250000</td>\n",
       "      <td>3.000000</td>\n",
       "      <td>3.2500</td>\n",
       "      <td>0.250000</td>\n",
       "      <td>0.125</td>\n",
       "    </tr>\n",
       "    <tr>\n",
       "      <th>3</th>\n",
       "      <td>4</td>\n",
       "      <td>1</td>\n",
       "      <td>12.0</td>\n",
       "      <td>MYP1</td>\n",
       "      <td>Boy</td>\n",
       "      <td>4.0</td>\n",
       "      <td>2.0</td>\n",
       "      <td>5.0</td>\n",
       "      <td>3.5</td>\n",
       "      <td>3.0</td>\n",
       "      <td>...</td>\n",
       "      <td>1</td>\n",
       "      <td>9</td>\n",
       "      <td>10</td>\n",
       "      <td>0.142857</td>\n",
       "      <td>3.576923</td>\n",
       "      <td>3.653846</td>\n",
       "      <td>3.437500</td>\n",
       "      <td>3.8125</td>\n",
       "      <td>0.375000</td>\n",
       "      <td>0.240</td>\n",
       "    </tr>\n",
       "    <tr>\n",
       "      <th>4</th>\n",
       "      <td>5</td>\n",
       "      <td>2</td>\n",
       "      <td>12.0</td>\n",
       "      <td>MYP1</td>\n",
       "      <td>Girl</td>\n",
       "      <td>5.0</td>\n",
       "      <td>5.0</td>\n",
       "      <td>5.0</td>\n",
       "      <td>5.0</td>\n",
       "      <td>4.0</td>\n",
       "      <td>...</td>\n",
       "      <td>0</td>\n",
       "      <td>7</td>\n",
       "      <td>12</td>\n",
       "      <td>0.555556</td>\n",
       "      <td>4.363636</td>\n",
       "      <td>4.153846</td>\n",
       "      <td>4.857143</td>\n",
       "      <td>4.6250</td>\n",
       "      <td>-0.232143</td>\n",
       "      <td>-1.625</td>\n",
       "    </tr>\n",
       "  </tbody>\n",
       "</table>\n",
       "<p>5 rows × 108 columns</p>\n",
       "</div>"
      ],
      "text/plain": [
       "   Participant number  Version   Age Class Gender  PREOE1  PREOE2  PREOE3  \\\n",
       "0                   1        1  11.0  MYP1    Boy     5.0     4.0     4.0   \n",
       "1                   2        1  11.0  MYP1    Boy     4.0     5.0     4.0   \n",
       "2                   3        1  12.0  MYP1    NaN     5.0     4.0     3.0   \n",
       "3                   4        1  12.0  MYP1    Boy     4.0     2.0     5.0   \n",
       "4                   5        2  12.0  MYP1   Girl     5.0     5.0     5.0   \n",
       "\n",
       "   PREOE4  PREOE5  ...  POSTCHECK16  NRCORRECTPRE  NRCORRECTPOST        LG  \\\n",
       "0     4.0     4.0  ...            1             6             11  0.500000   \n",
       "1     3.0     5.0  ...            0             6             11  0.500000   \n",
       "2     3.0     2.0  ...            1             9             13  0.571429   \n",
       "3     3.5     3.0  ...            1             9             10  0.142857   \n",
       "4     5.0     4.0  ...            0             7             12  0.555556   \n",
       "\n",
       "    AVPREPE  AVPOSTOE  OEPoESPRE  OEPoESPOST  OEPoESDiff OEPoESGain  \n",
       "0  3.538462  3.846154   4.000000      4.1250    0.125000      0.125  \n",
       "1  4.153846  3.923077   4.375000      4.2500   -0.125000     -0.200  \n",
       "2  3.000000  3.250000   3.000000      3.2500    0.250000      0.125  \n",
       "3  3.576923  3.653846   3.437500      3.8125    0.375000      0.240  \n",
       "4  4.363636  4.153846   4.857143      4.6250   -0.232143     -1.625  \n",
       "\n",
       "[5 rows x 108 columns]"
      ]
     },
     "execution_count": 2,
     "metadata": {},
     "output_type": "execute_result"
    }
   ],
   "source": [
    "#Read the dataset\n",
    "\n",
    "survey = pd.read_excel('ChildrenDrawings_ChildrenQuestionnaires.xlsx')\n",
    "survey.head()"
   ]
  },
  {
   "cell_type": "code",
   "execution_count": 3,
   "id": "088dfdf1",
   "metadata": {},
   "outputs": [
    {
     "data": {
      "text/plain": [
       "(99, 108)"
      ]
     },
     "execution_count": 3,
     "metadata": {},
     "output_type": "execute_result"
    }
   ],
   "source": [
    "#Determining the number of rows and columns\n",
    "\n",
    "survey.shape"
   ]
  },
  {
   "cell_type": "code",
   "execution_count": 4,
   "id": "a7d84c33",
   "metadata": {},
   "outputs": [
    {
     "data": {
      "text/html": [
       "<div>\n",
       "<style scoped>\n",
       "    .dataframe tbody tr th:only-of-type {\n",
       "        vertical-align: middle;\n",
       "    }\n",
       "\n",
       "    .dataframe tbody tr th {\n",
       "        vertical-align: top;\n",
       "    }\n",
       "\n",
       "    .dataframe thead th {\n",
       "        text-align: right;\n",
       "    }\n",
       "</style>\n",
       "<table border=\"1\" class=\"dataframe\">\n",
       "  <thead>\n",
       "    <tr style=\"text-align: right;\">\n",
       "      <th></th>\n",
       "      <th>Participant number</th>\n",
       "      <th>Version</th>\n",
       "      <th>Age</th>\n",
       "      <th>PREOE1</th>\n",
       "      <th>PREOE2</th>\n",
       "      <th>PREOE3</th>\n",
       "      <th>PREOE4</th>\n",
       "      <th>PREOE5</th>\n",
       "      <th>PREOE6</th>\n",
       "      <th>PREOE7</th>\n",
       "      <th>...</th>\n",
       "      <th>POSTCHECK16</th>\n",
       "      <th>NRCORRECTPRE</th>\n",
       "      <th>NRCORRECTPOST</th>\n",
       "      <th>LG</th>\n",
       "      <th>AVPREPE</th>\n",
       "      <th>AVPOSTOE</th>\n",
       "      <th>OEPoESPRE</th>\n",
       "      <th>OEPoESPOST</th>\n",
       "      <th>OEPoESDiff</th>\n",
       "      <th>OEPoESGain</th>\n",
       "    </tr>\n",
       "  </thead>\n",
       "  <tbody>\n",
       "    <tr>\n",
       "      <th>count</th>\n",
       "      <td>99.000000</td>\n",
       "      <td>99.000000</td>\n",
       "      <td>96.000000</td>\n",
       "      <td>98.000000</td>\n",
       "      <td>98.000000</td>\n",
       "      <td>96.000000</td>\n",
       "      <td>98.000000</td>\n",
       "      <td>98.000000</td>\n",
       "      <td>97.000000</td>\n",
       "      <td>97.000000</td>\n",
       "      <td>...</td>\n",
       "      <td>99.000000</td>\n",
       "      <td>99.000000</td>\n",
       "      <td>99.000000</td>\n",
       "      <td>99.000000</td>\n",
       "      <td>99.000000</td>\n",
       "      <td>99.000000</td>\n",
       "      <td>99.000000</td>\n",
       "      <td>99.000000</td>\n",
       "      <td>99.000000</td>\n",
       "      <td>99.000000</td>\n",
       "    </tr>\n",
       "    <tr>\n",
       "      <th>mean</th>\n",
       "      <td>50.000000</td>\n",
       "      <td>1.666667</td>\n",
       "      <td>11.239583</td>\n",
       "      <td>4.030612</td>\n",
       "      <td>3.806122</td>\n",
       "      <td>4.166667</td>\n",
       "      <td>3.719388</td>\n",
       "      <td>3.948980</td>\n",
       "      <td>4.268041</td>\n",
       "      <td>4.154639</td>\n",
       "      <td>...</td>\n",
       "      <td>0.434343</td>\n",
       "      <td>7.969697</td>\n",
       "      <td>9.424242</td>\n",
       "      <td>0.097339</td>\n",
       "      <td>3.853777</td>\n",
       "      <td>4.075499</td>\n",
       "      <td>4.009770</td>\n",
       "      <td>4.333333</td>\n",
       "      <td>0.323563</td>\n",
       "      <td>0.230625</td>\n",
       "    </tr>\n",
       "    <tr>\n",
       "      <th>std</th>\n",
       "      <td>28.722813</td>\n",
       "      <td>0.473804</td>\n",
       "      <td>0.676598</td>\n",
       "      <td>0.805318</td>\n",
       "      <td>0.959576</td>\n",
       "      <td>0.902239</td>\n",
       "      <td>0.858752</td>\n",
       "      <td>1.058811</td>\n",
       "      <td>1.025868</td>\n",
       "      <td>1.102461</td>\n",
       "      <td>...</td>\n",
       "      <td>0.498193</td>\n",
       "      <td>2.693357</td>\n",
       "      <td>2.185719</td>\n",
       "      <td>0.409518</td>\n",
       "      <td>0.475505</td>\n",
       "      <td>0.410061</td>\n",
       "      <td>0.578405</td>\n",
       "      <td>0.452812</td>\n",
       "      <td>0.469245</td>\n",
       "      <td>0.565060</td>\n",
       "    </tr>\n",
       "    <tr>\n",
       "      <th>min</th>\n",
       "      <td>1.000000</td>\n",
       "      <td>1.000000</td>\n",
       "      <td>10.000000</td>\n",
       "      <td>1.000000</td>\n",
       "      <td>2.000000</td>\n",
       "      <td>1.000000</td>\n",
       "      <td>1.000000</td>\n",
       "      <td>1.000000</td>\n",
       "      <td>1.000000</td>\n",
       "      <td>1.000000</td>\n",
       "      <td>...</td>\n",
       "      <td>0.000000</td>\n",
       "      <td>0.000000</td>\n",
       "      <td>4.000000</td>\n",
       "      <td>-1.250000</td>\n",
       "      <td>2.307692</td>\n",
       "      <td>2.846154</td>\n",
       "      <td>2.500000</td>\n",
       "      <td>3.000000</td>\n",
       "      <td>-1.125000</td>\n",
       "      <td>-3.000000</td>\n",
       "    </tr>\n",
       "    <tr>\n",
       "      <th>25%</th>\n",
       "      <td>25.500000</td>\n",
       "      <td>1.000000</td>\n",
       "      <td>11.000000</td>\n",
       "      <td>4.000000</td>\n",
       "      <td>3.000000</td>\n",
       "      <td>4.000000</td>\n",
       "      <td>3.000000</td>\n",
       "      <td>3.000000</td>\n",
       "      <td>4.000000</td>\n",
       "      <td>4.000000</td>\n",
       "      <td>...</td>\n",
       "      <td>0.000000</td>\n",
       "      <td>6.000000</td>\n",
       "      <td>8.000000</td>\n",
       "      <td>0.000000</td>\n",
       "      <td>3.538462</td>\n",
       "      <td>3.807692</td>\n",
       "      <td>3.625000</td>\n",
       "      <td>4.062500</td>\n",
       "      <td>0.125000</td>\n",
       "      <td>0.111111</td>\n",
       "    </tr>\n",
       "    <tr>\n",
       "      <th>50%</th>\n",
       "      <td>50.000000</td>\n",
       "      <td>2.000000</td>\n",
       "      <td>11.000000</td>\n",
       "      <td>4.000000</td>\n",
       "      <td>4.000000</td>\n",
       "      <td>4.000000</td>\n",
       "      <td>4.000000</td>\n",
       "      <td>4.000000</td>\n",
       "      <td>5.000000</td>\n",
       "      <td>5.000000</td>\n",
       "      <td>...</td>\n",
       "      <td>0.000000</td>\n",
       "      <td>8.000000</td>\n",
       "      <td>10.000000</td>\n",
       "      <td>0.142857</td>\n",
       "      <td>3.923077</td>\n",
       "      <td>4.083333</td>\n",
       "      <td>4.125000</td>\n",
       "      <td>4.500000</td>\n",
       "      <td>0.250000</td>\n",
       "      <td>0.333333</td>\n",
       "    </tr>\n",
       "    <tr>\n",
       "      <th>75%</th>\n",
       "      <td>74.500000</td>\n",
       "      <td>2.000000</td>\n",
       "      <td>12.000000</td>\n",
       "      <td>5.000000</td>\n",
       "      <td>4.750000</td>\n",
       "      <td>5.000000</td>\n",
       "      <td>4.000000</td>\n",
       "      <td>5.000000</td>\n",
       "      <td>5.000000</td>\n",
       "      <td>5.000000</td>\n",
       "      <td>...</td>\n",
       "      <td>1.000000</td>\n",
       "      <td>10.000000</td>\n",
       "      <td>11.000000</td>\n",
       "      <td>0.440972</td>\n",
       "      <td>4.153846</td>\n",
       "      <td>4.384615</td>\n",
       "      <td>4.437500</td>\n",
       "      <td>4.687500</td>\n",
       "      <td>0.500000</td>\n",
       "      <td>0.538462</td>\n",
       "    </tr>\n",
       "    <tr>\n",
       "      <th>max</th>\n",
       "      <td>99.000000</td>\n",
       "      <td>2.000000</td>\n",
       "      <td>12.000000</td>\n",
       "      <td>5.000000</td>\n",
       "      <td>5.000000</td>\n",
       "      <td>5.000000</td>\n",
       "      <td>5.000000</td>\n",
       "      <td>5.000000</td>\n",
       "      <td>5.000000</td>\n",
       "      <td>5.000000</td>\n",
       "      <td>...</td>\n",
       "      <td>1.000000</td>\n",
       "      <td>13.000000</td>\n",
       "      <td>14.000000</td>\n",
       "      <td>0.700000</td>\n",
       "      <td>4.692308</td>\n",
       "      <td>4.846154</td>\n",
       "      <td>4.857143</td>\n",
       "      <td>5.000000</td>\n",
       "      <td>1.687500</td>\n",
       "      <td>1.000000</td>\n",
       "    </tr>\n",
       "  </tbody>\n",
       "</table>\n",
       "<p>8 rows × 73 columns</p>\n",
       "</div>"
      ],
      "text/plain": [
       "       Participant number    Version        Age     PREOE1     PREOE2  \\\n",
       "count           99.000000  99.000000  96.000000  98.000000  98.000000   \n",
       "mean            50.000000   1.666667  11.239583   4.030612   3.806122   \n",
       "std             28.722813   0.473804   0.676598   0.805318   0.959576   \n",
       "min              1.000000   1.000000  10.000000   1.000000   2.000000   \n",
       "25%             25.500000   1.000000  11.000000   4.000000   3.000000   \n",
       "50%             50.000000   2.000000  11.000000   4.000000   4.000000   \n",
       "75%             74.500000   2.000000  12.000000   5.000000   4.750000   \n",
       "max             99.000000   2.000000  12.000000   5.000000   5.000000   \n",
       "\n",
       "          PREOE3     PREOE4     PREOE5     PREOE6     PREOE7  ...  \\\n",
       "count  96.000000  98.000000  98.000000  97.000000  97.000000  ...   \n",
       "mean    4.166667   3.719388   3.948980   4.268041   4.154639  ...   \n",
       "std     0.902239   0.858752   1.058811   1.025868   1.102461  ...   \n",
       "min     1.000000   1.000000   1.000000   1.000000   1.000000  ...   \n",
       "25%     4.000000   3.000000   3.000000   4.000000   4.000000  ...   \n",
       "50%     4.000000   4.000000   4.000000   5.000000   5.000000  ...   \n",
       "75%     5.000000   4.000000   5.000000   5.000000   5.000000  ...   \n",
       "max     5.000000   5.000000   5.000000   5.000000   5.000000  ...   \n",
       "\n",
       "       POSTCHECK16  NRCORRECTPRE  NRCORRECTPOST         LG    AVPREPE  \\\n",
       "count    99.000000     99.000000      99.000000  99.000000  99.000000   \n",
       "mean      0.434343      7.969697       9.424242   0.097339   3.853777   \n",
       "std       0.498193      2.693357       2.185719   0.409518   0.475505   \n",
       "min       0.000000      0.000000       4.000000  -1.250000   2.307692   \n",
       "25%       0.000000      6.000000       8.000000   0.000000   3.538462   \n",
       "50%       0.000000      8.000000      10.000000   0.142857   3.923077   \n",
       "75%       1.000000     10.000000      11.000000   0.440972   4.153846   \n",
       "max       1.000000     13.000000      14.000000   0.700000   4.692308   \n",
       "\n",
       "        AVPOSTOE  OEPoESPRE  OEPoESPOST  OEPoESDiff  OEPoESGain  \n",
       "count  99.000000  99.000000   99.000000   99.000000   99.000000  \n",
       "mean    4.075499   4.009770    4.333333    0.323563    0.230625  \n",
       "std     0.410061   0.578405    0.452812    0.469245    0.565060  \n",
       "min     2.846154   2.500000    3.000000   -1.125000   -3.000000  \n",
       "25%     3.807692   3.625000    4.062500    0.125000    0.111111  \n",
       "50%     4.083333   4.125000    4.500000    0.250000    0.333333  \n",
       "75%     4.384615   4.437500    4.687500    0.500000    0.538462  \n",
       "max     4.846154   4.857143    5.000000    1.687500    1.000000  \n",
       "\n",
       "[8 rows x 73 columns]"
      ]
     },
     "execution_count": 4,
     "metadata": {},
     "output_type": "execute_result"
    }
   ],
   "source": [
    "#Summary of all the numeric columns\n",
    "\n",
    "survey.describe()"
   ]
  },
  {
   "cell_type": "code",
   "execution_count": 5,
   "id": "816b1cdb",
   "metadata": {},
   "outputs": [
    {
     "name": "stdout",
     "output_type": "stream",
     "text": [
      "<class 'pandas.core.frame.DataFrame'>\n",
      "RangeIndex: 99 entries, 0 to 98\n",
      "Columns: 108 entries, Participant number to OEPoESGain\n",
      "dtypes: float64(29), int64(44), object(35)\n",
      "memory usage: 83.7+ KB\n"
     ]
    }
   ],
   "source": [
    "#Datatypes of each column\n",
    "\n",
    "survey.info()"
   ]
  },
  {
   "cell_type": "code",
   "execution_count": 6,
   "id": "528219c9",
   "metadata": {},
   "outputs": [
    {
     "data": {
      "text/plain": [
       "Participant number    0\n",
       "Version               0\n",
       "Age                   3\n",
       "Class                 0\n",
       "Gender                6\n",
       "                     ..\n",
       "AVPOSTOE              0\n",
       "OEPoESPRE             0\n",
       "OEPoESPOST            0\n",
       "OEPoESDiff            0\n",
       "OEPoESGain            0\n",
       "Length: 108, dtype: int64"
      ]
     },
     "execution_count": 6,
     "metadata": {},
     "output_type": "execute_result"
    }
   ],
   "source": [
    "#Checking missing values\n",
    "\n",
    "survey.isnull().sum()"
   ]
  },
  {
   "cell_type": "markdown",
   "id": "018860e9",
   "metadata": {},
   "source": [
    "There is few missing values in our dataset."
   ]
  },
  {
   "cell_type": "markdown",
   "id": "f3552a5f",
   "metadata": {},
   "source": [
    "### Data Manipulation"
   ]
  },
  {
   "cell_type": "code",
   "execution_count": 7,
   "id": "59f033df",
   "metadata": {
    "scrolled": true
   },
   "outputs": [
    {
     "data": {
      "text/plain": [
       "Participant number    0\n",
       "Version               0\n",
       "Age                   3\n",
       "Class                 0\n",
       "Gender                0\n",
       "                     ..\n",
       "AVPOSTOE              0\n",
       "OEPoESPRE             0\n",
       "OEPoESPOST            0\n",
       "OEPoESDiff            0\n",
       "OEPoESGain            0\n",
       "Length: 108, dtype: int64"
      ]
     },
     "execution_count": 7,
     "metadata": {},
     "output_type": "execute_result"
    }
   ],
   "source": [
    "#Filling missing field in Gender\n",
    "\n",
    "survey['Gender'] = survey['Gender'].fillna(\"Don't want to say\")\n",
    "survey.isnull().sum()"
   ]
  },
  {
   "cell_type": "code",
   "execution_count": 8,
   "id": "dcb893ef",
   "metadata": {},
   "outputs": [
    {
     "data": {
      "text/plain": [
       "Participant number    0\n",
       "Version               0\n",
       "Age                   0\n",
       "Class                 0\n",
       "Gender                0\n",
       "                     ..\n",
       "AVPOSTOE              0\n",
       "OEPoESPRE             0\n",
       "OEPoESPOST            0\n",
       "OEPoESDiff            0\n",
       "OEPoESGain            0\n",
       "Length: 108, dtype: int64"
      ]
     },
     "execution_count": 8,
     "metadata": {},
     "output_type": "execute_result"
    }
   ],
   "source": [
    "#Filling missing field in Age\n",
    "\n",
    "# Calculate the mean age\n",
    "mean_age = survey['Age'].mean()\n",
    "\n",
    "# Fill empty fields with the mean age\n",
    "survey['Age'].fillna(mean_age, inplace=True)\n",
    "\n",
    "survey.isnull().sum()"
   ]
  },
  {
   "cell_type": "code",
   "execution_count": 9,
   "id": "121d3814",
   "metadata": {
    "scrolled": true
   },
   "outputs": [
    {
     "data": {
      "text/html": [
       "<div>\n",
       "<style scoped>\n",
       "    .dataframe tbody tr th:only-of-type {\n",
       "        vertical-align: middle;\n",
       "    }\n",
       "\n",
       "    .dataframe tbody tr th {\n",
       "        vertical-align: top;\n",
       "    }\n",
       "\n",
       "    .dataframe thead th {\n",
       "        text-align: right;\n",
       "    }\n",
       "</style>\n",
       "<table border=\"1\" class=\"dataframe\">\n",
       "  <thead>\n",
       "    <tr style=\"text-align: right;\">\n",
       "      <th></th>\n",
       "      <th>Age</th>\n",
       "      <th>Gender</th>\n",
       "      <th>PREOE1</th>\n",
       "      <th>PREOE2</th>\n",
       "      <th>PREOE3</th>\n",
       "      <th>PREOE4</th>\n",
       "      <th>PREOE5</th>\n",
       "      <th>PREOE6</th>\n",
       "      <th>PREOE7</th>\n",
       "      <th>PROE8</th>\n",
       "      <th>PREOE9</th>\n",
       "      <th>PREOE10</th>\n",
       "      <th>PREOE11</th>\n",
       "      <th>PREOE12</th>\n",
       "      <th>PREOE13</th>\n",
       "      <th>POSTNOW11</th>\n",
       "    </tr>\n",
       "  </thead>\n",
       "  <tbody>\n",
       "    <tr>\n",
       "      <th>0</th>\n",
       "      <td>11.0</td>\n",
       "      <td>Boy</td>\n",
       "      <td>5.0</td>\n",
       "      <td>4.0</td>\n",
       "      <td>4.0</td>\n",
       "      <td>4.0</td>\n",
       "      <td>4.0</td>\n",
       "      <td>2.0</td>\n",
       "      <td>5.0</td>\n",
       "      <td>4.0</td>\n",
       "      <td>5.0</td>\n",
       "      <td>3.0</td>\n",
       "      <td>3.0</td>\n",
       "      <td>1</td>\n",
       "      <td>2.0</td>\n",
       "      <td>b</td>\n",
       "    </tr>\n",
       "    <tr>\n",
       "      <th>1</th>\n",
       "      <td>11.0</td>\n",
       "      <td>Boy</td>\n",
       "      <td>4.0</td>\n",
       "      <td>5.0</td>\n",
       "      <td>4.0</td>\n",
       "      <td>3.0</td>\n",
       "      <td>5.0</td>\n",
       "      <td>5.0</td>\n",
       "      <td>5.0</td>\n",
       "      <td>4.0</td>\n",
       "      <td>5.0</td>\n",
       "      <td>5.0</td>\n",
       "      <td>4.0</td>\n",
       "      <td>2</td>\n",
       "      <td>3.0</td>\n",
       "      <td>b</td>\n",
       "    </tr>\n",
       "    <tr>\n",
       "      <th>2</th>\n",
       "      <td>12.0</td>\n",
       "      <td>Don't want to say</td>\n",
       "      <td>5.0</td>\n",
       "      <td>4.0</td>\n",
       "      <td>3.0</td>\n",
       "      <td>3.0</td>\n",
       "      <td>2.0</td>\n",
       "      <td>3.0</td>\n",
       "      <td>2.0</td>\n",
       "      <td>2.0</td>\n",
       "      <td>5.0</td>\n",
       "      <td>2.0</td>\n",
       "      <td>3.0</td>\n",
       "      <td>2</td>\n",
       "      <td>NaN</td>\n",
       "      <td>b</td>\n",
       "    </tr>\n",
       "    <tr>\n",
       "      <th>3</th>\n",
       "      <td>12.0</td>\n",
       "      <td>Boy</td>\n",
       "      <td>4.0</td>\n",
       "      <td>2.0</td>\n",
       "      <td>5.0</td>\n",
       "      <td>3.5</td>\n",
       "      <td>3.0</td>\n",
       "      <td>4.0</td>\n",
       "      <td>3.0</td>\n",
       "      <td>3.0</td>\n",
       "      <td>5.0</td>\n",
       "      <td>4.0</td>\n",
       "      <td>3.0</td>\n",
       "      <td>4</td>\n",
       "      <td>3.0</td>\n",
       "      <td>b</td>\n",
       "    </tr>\n",
       "    <tr>\n",
       "      <th>4</th>\n",
       "      <td>12.0</td>\n",
       "      <td>Girl</td>\n",
       "      <td>5.0</td>\n",
       "      <td>5.0</td>\n",
       "      <td>5.0</td>\n",
       "      <td>5.0</td>\n",
       "      <td>4.0</td>\n",
       "      <td>5.0</td>\n",
       "      <td>5.0</td>\n",
       "      <td>NaN</td>\n",
       "      <td>5.0</td>\n",
       "      <td>NaN</td>\n",
       "      <td>4.0</td>\n",
       "      <td>1</td>\n",
       "      <td>4.0</td>\n",
       "      <td>d</td>\n",
       "    </tr>\n",
       "  </tbody>\n",
       "</table>\n",
       "</div>"
      ],
      "text/plain": [
       "    Age             Gender  PREOE1  PREOE2  PREOE3  PREOE4  PREOE5  PREOE6  \\\n",
       "0  11.0                Boy     5.0     4.0     4.0     4.0     4.0     2.0   \n",
       "1  11.0                Boy     4.0     5.0     4.0     3.0     5.0     5.0   \n",
       "2  12.0  Don't want to say     5.0     4.0     3.0     3.0     2.0     3.0   \n",
       "3  12.0                Boy     4.0     2.0     5.0     3.5     3.0     4.0   \n",
       "4  12.0               Girl     5.0     5.0     5.0     5.0     4.0     5.0   \n",
       "\n",
       "   PREOE7  PROE8  PREOE9  PREOE10  PREOE11  PREOE12  PREOE13 POSTNOW11  \n",
       "0     5.0    4.0     5.0      3.0      3.0        1      2.0         b  \n",
       "1     5.0    4.0     5.0      5.0      4.0        2      3.0         b  \n",
       "2     2.0    2.0     5.0      2.0      3.0        2      NaN         b  \n",
       "3     3.0    3.0     5.0      4.0      3.0        4      3.0         b  \n",
       "4     5.0    NaN     5.0      NaN      4.0        1      4.0         d  "
      ]
     },
     "execution_count": 9,
     "metadata": {},
     "output_type": "execute_result"
    }
   ],
   "source": [
    "#Dropping unnecessary columns\n",
    "\n",
    "survey.drop(['Participant number','Version','Class','PREDRAW','PREKNOW1','PREKNOW2','PREKNOW3','PREKNOW4','PREKNOW5','PREKNOW6','PREKNOW7','PREKNOW8','PREKNOW9','PREKNOW10','PREKNOW11','PREKNOW12','PREKNOW13','PREKNOW14','PREKNOW15','PREKNOW16','TIME','SEAT','POSTDRAW','POSTOE1','POSTOE2','POSTOE3','POSTOE4','POSTOE5','POSTOE6','POSTOE7','POSTOE8','POSTOE9','POSTOE10','POSTOE11','POSTOE12','POSTOE13','POSTDRAW','POSTKNOW1','POSTKNOW2','POSTKNOW3','POSTKNOW4','POSTKNOW5','POSTKNOW6','POSTKNOW7','POSTKNOW8','POSTKNOW9','POSTKNOW10','POSTKNOW12','POSTKNOW13','POSTKNOW14','POSTKNOW15','POSTKNOW16','PRECHECK1','PRECHECK2','PRECHECK3','PRECHECK4','PRECHECK5','PRECHECK6','PRECHECK7','PRECHECK8','PRECHECK9','PRECHECK10','PRECHECK11','PRECHECK12','PRECHECK13','PRECHECK14','PRECHECK15','PRECHECK16','POSTCHECK1','POSTCHECK2','POSTCHECK3','POSTCHECK4','POSTCHECK5','POSTCHECK6','POSTCHECK7','POSTCHECK8','POSTCHECK9','POSTCHECK10','POSTCHECK11','POSTCHECK12','POSTCHECK13','POSTCHECK14','POSTCHECK15','POSTCHECK16','NRCORRECTPRE','NRCORRECTPOST','LG','AVPREPE','AVPOSTOE','OEPoESPRE','OEPoESPOST','OEPoESDiff','OEPoESGain'], axis=1, inplace=True)\n",
    "survey.head()"
   ]
  },
  {
   "cell_type": "code",
   "execution_count": 10,
   "id": "50de1e58",
   "metadata": {},
   "outputs": [
    {
     "data": {
      "text/html": [
       "<div>\n",
       "<style scoped>\n",
       "    .dataframe tbody tr th:only-of-type {\n",
       "        vertical-align: middle;\n",
       "    }\n",
       "\n",
       "    .dataframe tbody tr th {\n",
       "        vertical-align: top;\n",
       "    }\n",
       "\n",
       "    .dataframe thead th {\n",
       "        text-align: right;\n",
       "    }\n",
       "</style>\n",
       "<table border=\"1\" class=\"dataframe\">\n",
       "  <thead>\n",
       "    <tr style=\"text-align: right;\">\n",
       "      <th></th>\n",
       "      <th>Age</th>\n",
       "      <th>Gender</th>\n",
       "      <th>view</th>\n",
       "      <th>perspective</th>\n",
       "      <th>value</th>\n",
       "      <th>action</th>\n",
       "      <th>PREOE5</th>\n",
       "      <th>PREOE6</th>\n",
       "      <th>PREOE7</th>\n",
       "      <th>PROE8</th>\n",
       "      <th>bonding</th>\n",
       "      <th>teamwork</th>\n",
       "      <th>PREOE11</th>\n",
       "      <th>PREOE12</th>\n",
       "      <th>PREOE13</th>\n",
       "      <th>causes</th>\n",
       "    </tr>\n",
       "  </thead>\n",
       "  <tbody>\n",
       "    <tr>\n",
       "      <th>0</th>\n",
       "      <td>11.0</td>\n",
       "      <td>Boy</td>\n",
       "      <td>5.0</td>\n",
       "      <td>4.0</td>\n",
       "      <td>4.0</td>\n",
       "      <td>4.0</td>\n",
       "      <td>4.0</td>\n",
       "      <td>2.0</td>\n",
       "      <td>5.0</td>\n",
       "      <td>4.0</td>\n",
       "      <td>5.0</td>\n",
       "      <td>3.0</td>\n",
       "      <td>3.0</td>\n",
       "      <td>1</td>\n",
       "      <td>2.0</td>\n",
       "      <td>b</td>\n",
       "    </tr>\n",
       "    <tr>\n",
       "      <th>1</th>\n",
       "      <td>11.0</td>\n",
       "      <td>Boy</td>\n",
       "      <td>4.0</td>\n",
       "      <td>5.0</td>\n",
       "      <td>4.0</td>\n",
       "      <td>3.0</td>\n",
       "      <td>5.0</td>\n",
       "      <td>5.0</td>\n",
       "      <td>5.0</td>\n",
       "      <td>4.0</td>\n",
       "      <td>5.0</td>\n",
       "      <td>5.0</td>\n",
       "      <td>4.0</td>\n",
       "      <td>2</td>\n",
       "      <td>3.0</td>\n",
       "      <td>b</td>\n",
       "    </tr>\n",
       "    <tr>\n",
       "      <th>2</th>\n",
       "      <td>12.0</td>\n",
       "      <td>Don't want to say</td>\n",
       "      <td>5.0</td>\n",
       "      <td>4.0</td>\n",
       "      <td>3.0</td>\n",
       "      <td>3.0</td>\n",
       "      <td>2.0</td>\n",
       "      <td>3.0</td>\n",
       "      <td>2.0</td>\n",
       "      <td>2.0</td>\n",
       "      <td>5.0</td>\n",
       "      <td>2.0</td>\n",
       "      <td>3.0</td>\n",
       "      <td>2</td>\n",
       "      <td>NaN</td>\n",
       "      <td>b</td>\n",
       "    </tr>\n",
       "    <tr>\n",
       "      <th>3</th>\n",
       "      <td>12.0</td>\n",
       "      <td>Boy</td>\n",
       "      <td>4.0</td>\n",
       "      <td>2.0</td>\n",
       "      <td>5.0</td>\n",
       "      <td>3.5</td>\n",
       "      <td>3.0</td>\n",
       "      <td>4.0</td>\n",
       "      <td>3.0</td>\n",
       "      <td>3.0</td>\n",
       "      <td>5.0</td>\n",
       "      <td>4.0</td>\n",
       "      <td>3.0</td>\n",
       "      <td>4</td>\n",
       "      <td>3.0</td>\n",
       "      <td>b</td>\n",
       "    </tr>\n",
       "    <tr>\n",
       "      <th>4</th>\n",
       "      <td>12.0</td>\n",
       "      <td>Girl</td>\n",
       "      <td>5.0</td>\n",
       "      <td>5.0</td>\n",
       "      <td>5.0</td>\n",
       "      <td>5.0</td>\n",
       "      <td>4.0</td>\n",
       "      <td>5.0</td>\n",
       "      <td>5.0</td>\n",
       "      <td>NaN</td>\n",
       "      <td>5.0</td>\n",
       "      <td>NaN</td>\n",
       "      <td>4.0</td>\n",
       "      <td>1</td>\n",
       "      <td>4.0</td>\n",
       "      <td>d</td>\n",
       "    </tr>\n",
       "  </tbody>\n",
       "</table>\n",
       "</div>"
      ],
      "text/plain": [
       "    Age             Gender  view  perspective  value  action  PREOE5  PREOE6  \\\n",
       "0  11.0                Boy   5.0          4.0    4.0     4.0     4.0     2.0   \n",
       "1  11.0                Boy   4.0          5.0    4.0     3.0     5.0     5.0   \n",
       "2  12.0  Don't want to say   5.0          4.0    3.0     3.0     2.0     3.0   \n",
       "3  12.0                Boy   4.0          2.0    5.0     3.5     3.0     4.0   \n",
       "4  12.0               Girl   5.0          5.0    5.0     5.0     4.0     5.0   \n",
       "\n",
       "   PREOE7  PROE8  bonding  teamwork  PREOE11  PREOE12  PREOE13 causes  \n",
       "0     5.0    4.0      5.0       3.0      3.0        1      2.0      b  \n",
       "1     5.0    4.0      5.0       5.0      4.0        2      3.0      b  \n",
       "2     2.0    2.0      5.0       2.0      3.0        2      NaN      b  \n",
       "3     3.0    3.0      5.0       4.0      3.0        4      3.0      b  \n",
       "4     5.0    NaN      5.0       NaN      4.0        1      4.0      d  "
      ]
     },
     "execution_count": 10,
     "metadata": {},
     "output_type": "execute_result"
    }
   ],
   "source": [
    "#Renaming key the columns\n",
    "\n",
    "survey.rename(columns = {'PREOE1':'view','PREOE2':'perspective','PREOE3':'value','PREOE4':'action','PREOE9':'bonding','PREOE10':'teamwork','POSTNOW11':'causes'}, inplace = True) \n",
    "survey.head()"
   ]
  },
  {
   "cell_type": "markdown",
   "id": "23adfd8e",
   "metadata": {},
   "source": [
    "### Mapping the Labels"
   ]
  },
  {
   "cell_type": "code",
   "execution_count": 11,
   "id": "b2c94154",
   "metadata": {
    "scrolled": false
   },
   "outputs": [
    {
     "data": {
      "text/html": [
       "<div>\n",
       "<style scoped>\n",
       "    .dataframe tbody tr th:only-of-type {\n",
       "        vertical-align: middle;\n",
       "    }\n",
       "\n",
       "    .dataframe tbody tr th {\n",
       "        vertical-align: top;\n",
       "    }\n",
       "\n",
       "    .dataframe thead th {\n",
       "        text-align: right;\n",
       "    }\n",
       "</style>\n",
       "<table border=\"1\" class=\"dataframe\">\n",
       "  <thead>\n",
       "    <tr style=\"text-align: right;\">\n",
       "      <th></th>\n",
       "      <th>Age</th>\n",
       "      <th>Gender</th>\n",
       "      <th>view</th>\n",
       "      <th>perspective</th>\n",
       "      <th>value</th>\n",
       "      <th>action</th>\n",
       "      <th>PREOE5</th>\n",
       "      <th>PREOE6</th>\n",
       "      <th>PREOE7</th>\n",
       "      <th>PROE8</th>\n",
       "      <th>bonding</th>\n",
       "      <th>teamwork</th>\n",
       "      <th>PREOE11</th>\n",
       "      <th>PREOE12</th>\n",
       "      <th>PREOE13</th>\n",
       "      <th>causes</th>\n",
       "    </tr>\n",
       "  </thead>\n",
       "  <tbody>\n",
       "    <tr>\n",
       "      <th>0</th>\n",
       "      <td>11.0</td>\n",
       "      <td>Boy</td>\n",
       "      <td>5.0</td>\n",
       "      <td>4.0</td>\n",
       "      <td>4.0</td>\n",
       "      <td>4.0</td>\n",
       "      <td>4.0</td>\n",
       "      <td>2.0</td>\n",
       "      <td>5.0</td>\n",
       "      <td>4.0</td>\n",
       "      <td>5.0</td>\n",
       "      <td>3.0</td>\n",
       "      <td>3.0</td>\n",
       "      <td>1</td>\n",
       "      <td>2.0</td>\n",
       "      <td>climate change</td>\n",
       "    </tr>\n",
       "    <tr>\n",
       "      <th>1</th>\n",
       "      <td>11.0</td>\n",
       "      <td>Boy</td>\n",
       "      <td>4.0</td>\n",
       "      <td>5.0</td>\n",
       "      <td>4.0</td>\n",
       "      <td>3.0</td>\n",
       "      <td>5.0</td>\n",
       "      <td>5.0</td>\n",
       "      <td>5.0</td>\n",
       "      <td>4.0</td>\n",
       "      <td>5.0</td>\n",
       "      <td>5.0</td>\n",
       "      <td>4.0</td>\n",
       "      <td>2</td>\n",
       "      <td>3.0</td>\n",
       "      <td>climate change</td>\n",
       "    </tr>\n",
       "    <tr>\n",
       "      <th>2</th>\n",
       "      <td>12.0</td>\n",
       "      <td>Don't want to say</td>\n",
       "      <td>5.0</td>\n",
       "      <td>4.0</td>\n",
       "      <td>3.0</td>\n",
       "      <td>3.0</td>\n",
       "      <td>2.0</td>\n",
       "      <td>3.0</td>\n",
       "      <td>2.0</td>\n",
       "      <td>2.0</td>\n",
       "      <td>5.0</td>\n",
       "      <td>2.0</td>\n",
       "      <td>3.0</td>\n",
       "      <td>2</td>\n",
       "      <td>NaN</td>\n",
       "      <td>climate change</td>\n",
       "    </tr>\n",
       "    <tr>\n",
       "      <th>3</th>\n",
       "      <td>12.0</td>\n",
       "      <td>Boy</td>\n",
       "      <td>4.0</td>\n",
       "      <td>2.0</td>\n",
       "      <td>5.0</td>\n",
       "      <td>3.5</td>\n",
       "      <td>3.0</td>\n",
       "      <td>4.0</td>\n",
       "      <td>3.0</td>\n",
       "      <td>3.0</td>\n",
       "      <td>5.0</td>\n",
       "      <td>4.0</td>\n",
       "      <td>3.0</td>\n",
       "      <td>4</td>\n",
       "      <td>3.0</td>\n",
       "      <td>climate change</td>\n",
       "    </tr>\n",
       "    <tr>\n",
       "      <th>4</th>\n",
       "      <td>12.0</td>\n",
       "      <td>Girl</td>\n",
       "      <td>5.0</td>\n",
       "      <td>5.0</td>\n",
       "      <td>5.0</td>\n",
       "      <td>5.0</td>\n",
       "      <td>4.0</td>\n",
       "      <td>5.0</td>\n",
       "      <td>5.0</td>\n",
       "      <td>NaN</td>\n",
       "      <td>5.0</td>\n",
       "      <td>NaN</td>\n",
       "      <td>4.0</td>\n",
       "      <td>1</td>\n",
       "      <td>4.0</td>\n",
       "      <td>not aware</td>\n",
       "    </tr>\n",
       "  </tbody>\n",
       "</table>\n",
       "</div>"
      ],
      "text/plain": [
       "    Age             Gender  view  perspective  value  action  PREOE5  PREOE6  \\\n",
       "0  11.0                Boy   5.0          4.0    4.0     4.0     4.0     2.0   \n",
       "1  11.0                Boy   4.0          5.0    4.0     3.0     5.0     5.0   \n",
       "2  12.0  Don't want to say   5.0          4.0    3.0     3.0     2.0     3.0   \n",
       "3  12.0                Boy   4.0          2.0    5.0     3.5     3.0     4.0   \n",
       "4  12.0               Girl   5.0          5.0    5.0     5.0     4.0     5.0   \n",
       "\n",
       "   PREOE7  PROE8  bonding  teamwork  PREOE11  PREOE12  PREOE13          causes  \n",
       "0     5.0    4.0      5.0       3.0      3.0        1      2.0  climate change  \n",
       "1     5.0    4.0      5.0       5.0      4.0        2      3.0  climate change  \n",
       "2     2.0    2.0      5.0       2.0      3.0        2      NaN  climate change  \n",
       "3     3.0    3.0      5.0       4.0      3.0        4      3.0  climate change  \n",
       "4     5.0    NaN      5.0       NaN      4.0        1      4.0       not aware  "
      ]
     },
     "execution_count": 11,
     "metadata": {},
     "output_type": "execute_result"
    }
   ],
   "source": [
    "survey['causes'] = survey['causes'].astype(str)\n",
    "survey['causes'] = survey.causes.map({'a': \"people's activities\", 'b': 'climate change', 'c': 'climate change', 'd': 'not aware'})\n",
    "\n",
    "survey.head()"
   ]
  },
  {
   "cell_type": "markdown",
   "id": "d8a38dcc",
   "metadata": {},
   "source": [
    "# Step 2: Visualization"
   ]
  },
  {
   "cell_type": "code",
   "execution_count": 12,
   "id": "982c598f",
   "metadata": {
    "scrolled": false
   },
   "outputs": [
    {
     "data": {
      "text/plain": [
       "Gender         3\n",
       "causes         3\n",
       "Age            4\n",
       "perspective    4\n",
       "view           5\n",
       "value          5\n",
       "PREOE5         5\n",
       "PREOE6         5\n",
       "PREOE7         5\n",
       "PROE8          5\n",
       "PREOE12        5\n",
       "PREOE13        5\n",
       "action         6\n",
       "teamwork       6\n",
       "bonding        7\n",
       "PREOE11        7\n",
       "dtype: int64"
      ]
     },
     "execution_count": 12,
     "metadata": {},
     "output_type": "execute_result"
    }
   ],
   "source": [
    "#Checking the unique values in the data\n",
    "\n",
    "survey.nunique().sort_values()"
   ]
  },
  {
   "cell_type": "markdown",
   "id": "46bc0977",
   "metadata": {},
   "source": [
    "## I. Visualising Numeric Variables"
   ]
  },
  {
   "cell_type": "code",
   "execution_count": 13,
   "id": "672600ef",
   "metadata": {},
   "outputs": [
    {
     "data": {
      "image/png": "[encoded data removed]",
      "text/plain": [
       "<Figure size 900x900 with 30 Axes>"
      ]
     },
     "metadata": {
      "needs_background": "light"
     },
     "output_type": "display_data"
    }
   ],
   "source": [
    "#Pairplot for numeric variables\n",
    "\n",
    "sns.pairplot(survey, vars=['Age','perspective','value','action','bonding'])\n",
    "plt.show()"
   ]
  },
  {
   "cell_type": "markdown",
   "id": "3e170427",
   "metadata": {},
   "source": [
    "## II. Visualising Categorical Variables"
   ]
  },
  {
   "cell_type": "code",
   "execution_count": 14,
   "id": "86a35963",
   "metadata": {},
   "outputs": [
    {
     "data": {
      "image/png": "[encoded data removed]",
      "text/plain": [
       "<Figure size 1440x864 with 2 Axes>"
      ]
     },
     "metadata": {
      "needs_background": "light"
     },
     "output_type": "display_data"
    }
   ],
   "source": [
    "#Relationship between categorical and continuous variable\n",
    "\n",
    "plt.figure(figsize=(20, 12))\n",
    "\n",
    "plt.subplot(3,3,1)\n",
    "sns.boxplot(x = 'causes', y ='bonding', data=survey)\n",
    "\n",
    "plt.subplot(3,3,2)\n",
    "sns.boxplot(x = 'Gender', y ='bonding', data=survey)\n",
    "\n",
    "plt.show()"
   ]
  },
  {
   "cell_type": "markdown",
   "id": "b6fb9e8e",
   "metadata": {},
   "source": [
    "## III. Univariate Analysis"
   ]
  },
  {
   "cell_type": "code",
   "execution_count": 15,
   "id": "a8c537ef",
   "metadata": {},
   "outputs": [
    {
     "data": {
      "image/png": "[encoded data removed]",
      "text/plain": [
       "<Figure size 432x288 with 1 Axes>"
      ]
     },
     "metadata": {
      "needs_background": "light"
     },
     "output_type": "display_data"
    }
   ],
   "source": [
    "#Relation between causes and bonding\n",
    "\n",
    "sns.barplot('causes', 'bonding', data=survey)\n",
    "\n",
    "plt.show()"
   ]
  },
  {
   "cell_type": "markdown",
   "id": "51d859d3",
   "metadata": {},
   "source": [
    "No significant difference was found between the level of awareness about the causes of climate change among high family-child bonding level."
   ]
  },
  {
   "cell_type": "code",
   "execution_count": 16,
   "id": "c6bba834",
   "metadata": {},
   "outputs": [
    {
     "data": {
      "image/png": "[encoded data removed]",
      "text/plain": [
       "<Figure size 432x288 with 1 Axes>"
      ]
     },
     "metadata": {
      "needs_background": "light"
     },
     "output_type": "display_data"
    }
   ],
   "source": [
    "#Relation between bonding and gender\n",
    "\n",
    "sns.barplot('Gender', 'bonding', data=survey)\n",
    "\n",
    "plt.show()"
   ]
  },
  {
   "cell_type": "code",
   "execution_count": 17,
   "id": "e4b3a3ac",
   "metadata": {},
   "outputs": [
    {
     "data": {
      "image/png": "[encoded data removed]",
      "text/plain": [
       "<Figure size 432x288 with 1 Axes>"
      ]
     },
     "metadata": {
      "needs_background": "light"
     },
     "output_type": "display_data"
    }
   ],
   "source": [
    "#scatter plot for causes to bonding\n",
    "\n",
    "sns.scatterplot(x='causes', y='bonding', data=survey)\n",
    "plt.show()"
   ]
  },
  {
   "cell_type": "markdown",
   "id": "f996950f",
   "metadata": {},
   "source": [
    "## IV. Relations among variables"
   ]
  },
  {
   "cell_type": "code",
   "execution_count": 18,
   "id": "e521b7dd",
   "metadata": {},
   "outputs": [
    {
     "data": {
      "image/png": "[encoded data removed]",
      "text/plain": [
       "<Figure size 1800x864 with 2 Axes>"
      ]
     },
     "metadata": {
      "needs_background": "light"
     },
     "output_type": "display_data"
    }
   ],
   "source": [
    "#Heatmap to see correlation between variables\n",
    "\n",
    "plt.figure(figsize=(25, 12))\n",
    "sns.heatmap(survey.corr(), cmap='Blues', annot = True)\n",
    "plt.show()"
   ]
  },
  {
   "cell_type": "markdown",
   "id": "0bea83ff",
   "metadata": {},
   "source": [
    "- We can see that 'view' and 'value' are correlated to the 'bonding' variable.\n",
    "- We may also notice that some additional factors are highly correlated which is 'teamwork'.\n",
    "- Both graphs above assist to analyze the data and indicate factors that may be relevant in creating the model.\n",
    "- From this, we may construct a Linear Regression Model."
   ]
  },
  {
   "cell_type": "markdown",
   "id": "cedff751",
   "metadata": {},
   "source": [
    "The dataset contains certain variables that are not necessary. Thus, we can drop them.\n",
    "\n",
    "It has been discovered that 'teamwork' and 'bonding' are highly correlated, and 'teamwork' can be eliminated to minimize multicollinearity."
   ]
  },
  {
   "cell_type": "code",
   "execution_count": 19,
   "id": "4fee09b6",
   "metadata": {},
   "outputs": [
    {
     "data": {
      "text/html": [
       "<div>\n",
       "<style scoped>\n",
       "    .dataframe tbody tr th:only-of-type {\n",
       "        vertical-align: middle;\n",
       "    }\n",
       "\n",
       "    .dataframe tbody tr th {\n",
       "        vertical-align: top;\n",
       "    }\n",
       "\n",
       "    .dataframe thead th {\n",
       "        text-align: right;\n",
       "    }\n",
       "</style>\n",
       "<table border=\"1\" class=\"dataframe\">\n",
       "  <thead>\n",
       "    <tr style=\"text-align: right;\">\n",
       "      <th></th>\n",
       "      <th>Gender</th>\n",
       "      <th>view</th>\n",
       "      <th>perspective</th>\n",
       "      <th>value</th>\n",
       "      <th>action</th>\n",
       "      <th>PREOE5</th>\n",
       "      <th>PREOE6</th>\n",
       "      <th>PREOE7</th>\n",
       "      <th>PROE8</th>\n",
       "      <th>bonding</th>\n",
       "      <th>PREOE11</th>\n",
       "      <th>PREOE12</th>\n",
       "      <th>PREOE13</th>\n",
       "      <th>causes</th>\n",
       "    </tr>\n",
       "  </thead>\n",
       "  <tbody>\n",
       "    <tr>\n",
       "      <th>0</th>\n",
       "      <td>Boy</td>\n",
       "      <td>5.0</td>\n",
       "      <td>4.0</td>\n",
       "      <td>4.0</td>\n",
       "      <td>4.0</td>\n",
       "      <td>4.0</td>\n",
       "      <td>2.0</td>\n",
       "      <td>5.0</td>\n",
       "      <td>4.0</td>\n",
       "      <td>5.0</td>\n",
       "      <td>3.0</td>\n",
       "      <td>1</td>\n",
       "      <td>2.0</td>\n",
       "      <td>climate change</td>\n",
       "    </tr>\n",
       "    <tr>\n",
       "      <th>1</th>\n",
       "      <td>Boy</td>\n",
       "      <td>4.0</td>\n",
       "      <td>5.0</td>\n",
       "      <td>4.0</td>\n",
       "      <td>3.0</td>\n",
       "      <td>5.0</td>\n",
       "      <td>5.0</td>\n",
       "      <td>5.0</td>\n",
       "      <td>4.0</td>\n",
       "      <td>5.0</td>\n",
       "      <td>4.0</td>\n",
       "      <td>2</td>\n",
       "      <td>3.0</td>\n",
       "      <td>climate change</td>\n",
       "    </tr>\n",
       "    <tr>\n",
       "      <th>2</th>\n",
       "      <td>Don't want to say</td>\n",
       "      <td>5.0</td>\n",
       "      <td>4.0</td>\n",
       "      <td>3.0</td>\n",
       "      <td>3.0</td>\n",
       "      <td>2.0</td>\n",
       "      <td>3.0</td>\n",
       "      <td>2.0</td>\n",
       "      <td>2.0</td>\n",
       "      <td>5.0</td>\n",
       "      <td>3.0</td>\n",
       "      <td>2</td>\n",
       "      <td>NaN</td>\n",
       "      <td>climate change</td>\n",
       "    </tr>\n",
       "    <tr>\n",
       "      <th>3</th>\n",
       "      <td>Boy</td>\n",
       "      <td>4.0</td>\n",
       "      <td>2.0</td>\n",
       "      <td>5.0</td>\n",
       "      <td>3.5</td>\n",
       "      <td>3.0</td>\n",
       "      <td>4.0</td>\n",
       "      <td>3.0</td>\n",
       "      <td>3.0</td>\n",
       "      <td>5.0</td>\n",
       "      <td>3.0</td>\n",
       "      <td>4</td>\n",
       "      <td>3.0</td>\n",
       "      <td>climate change</td>\n",
       "    </tr>\n",
       "    <tr>\n",
       "      <th>4</th>\n",
       "      <td>Girl</td>\n",
       "      <td>5.0</td>\n",
       "      <td>5.0</td>\n",
       "      <td>5.0</td>\n",
       "      <td>5.0</td>\n",
       "      <td>4.0</td>\n",
       "      <td>5.0</td>\n",
       "      <td>5.0</td>\n",
       "      <td>NaN</td>\n",
       "      <td>5.0</td>\n",
       "      <td>4.0</td>\n",
       "      <td>1</td>\n",
       "      <td>4.0</td>\n",
       "      <td>not aware</td>\n",
       "    </tr>\n",
       "  </tbody>\n",
       "</table>\n",
       "</div>"
      ],
      "text/plain": [
       "              Gender  view  perspective  value  action  PREOE5  PREOE6  \\\n",
       "0                Boy   5.0          4.0    4.0     4.0     4.0     2.0   \n",
       "1                Boy   4.0          5.0    4.0     3.0     5.0     5.0   \n",
       "2  Don't want to say   5.0          4.0    3.0     3.0     2.0     3.0   \n",
       "3                Boy   4.0          2.0    5.0     3.5     3.0     4.0   \n",
       "4               Girl   5.0          5.0    5.0     5.0     4.0     5.0   \n",
       "\n",
       "   PREOE7  PROE8  bonding  PREOE11  PREOE12  PREOE13          causes  \n",
       "0     5.0    4.0      5.0      3.0        1      2.0  climate change  \n",
       "1     5.0    4.0      5.0      4.0        2      3.0  climate change  \n",
       "2     2.0    2.0      5.0      3.0        2      NaN  climate change  \n",
       "3     3.0    3.0      5.0      3.0        4      3.0  climate change  \n",
       "4     5.0    NaN      5.0      4.0        1      4.0       not aware  "
      ]
     },
     "execution_count": 19,
     "metadata": {},
     "output_type": "execute_result"
    }
   ],
   "source": [
    "#Dropping unnecessary columns\n",
    "\n",
    "survey.drop(['Age', 'teamwork'], axis=1, inplace=True)\n",
    "survey.head()"
   ]
  },
  {
   "cell_type": "code",
   "execution_count": 20,
   "id": "56b65554",
   "metadata": {
    "scrolled": true
   },
   "outputs": [
    {
     "data": {
      "text/plain": [
       "Gender          object\n",
       "view           float64\n",
       "perspective    float64\n",
       "value          float64\n",
       "action         float64\n",
       "PREOE5         float64\n",
       "PREOE6         float64\n",
       "PREOE7         float64\n",
       "PROE8          float64\n",
       "bonding        float64\n",
       "PREOE11        float64\n",
       "PREOE12          int64\n",
       "PREOE13        float64\n",
       "causes          object\n",
       "dtype: object"
      ]
     },
     "execution_count": 20,
     "metadata": {},
     "output_type": "execute_result"
    }
   ],
   "source": [
    "#Checking datatypes of all the columns\n",
    "survey.dtypes"
   ]
  },
  {
   "cell_type": "markdown",
   "id": "e9d897c2",
   "metadata": {},
   "source": [
    "# Step 3: Data Preparation"
   ]
  },
  {
   "cell_type": "code",
   "execution_count": 21,
   "id": "44e8637f",
   "metadata": {},
   "outputs": [
    {
     "data": {
      "text/html": [
       "<div>\n",
       "<style scoped>\n",
       "    .dataframe tbody tr th:only-of-type {\n",
       "        vertical-align: middle;\n",
       "    }\n",
       "\n",
       "    .dataframe tbody tr th {\n",
       "        vertical-align: top;\n",
       "    }\n",
       "\n",
       "    .dataframe thead th {\n",
       "        text-align: right;\n",
       "    }\n",
       "</style>\n",
       "<table border=\"1\" class=\"dataframe\">\n",
       "  <thead>\n",
       "    <tr style=\"text-align: right;\">\n",
       "      <th></th>\n",
       "      <th>Gender</th>\n",
       "      <th>view</th>\n",
       "      <th>perspective</th>\n",
       "      <th>value</th>\n",
       "      <th>action</th>\n",
       "      <th>PREOE5</th>\n",
       "      <th>PREOE6</th>\n",
       "      <th>PREOE7</th>\n",
       "      <th>PROE8</th>\n",
       "      <th>bonding</th>\n",
       "      <th>PREOE11</th>\n",
       "      <th>PREOE12</th>\n",
       "      <th>PREOE13</th>\n",
       "      <th>causes</th>\n",
       "      <th>cause_not aware</th>\n",
       "      <th>cause_people's activities</th>\n",
       "      <th>gender_Don't want to say</th>\n",
       "      <th>gender_Girl</th>\n",
       "    </tr>\n",
       "  </thead>\n",
       "  <tbody>\n",
       "    <tr>\n",
       "      <th>0</th>\n",
       "      <td>Boy</td>\n",
       "      <td>5.0</td>\n",
       "      <td>4.0</td>\n",
       "      <td>4.0</td>\n",
       "      <td>4.0</td>\n",
       "      <td>4.0</td>\n",
       "      <td>2.0</td>\n",
       "      <td>5.0</td>\n",
       "      <td>4.0</td>\n",
       "      <td>5.0</td>\n",
       "      <td>3.0</td>\n",
       "      <td>1</td>\n",
       "      <td>2.0</td>\n",
       "      <td>climate change</td>\n",
       "      <td>0</td>\n",
       "      <td>0</td>\n",
       "      <td>0</td>\n",
       "      <td>0</td>\n",
       "    </tr>\n",
       "    <tr>\n",
       "      <th>1</th>\n",
       "      <td>Boy</td>\n",
       "      <td>4.0</td>\n",
       "      <td>5.0</td>\n",
       "      <td>4.0</td>\n",
       "      <td>3.0</td>\n",
       "      <td>5.0</td>\n",
       "      <td>5.0</td>\n",
       "      <td>5.0</td>\n",
       "      <td>4.0</td>\n",
       "      <td>5.0</td>\n",
       "      <td>4.0</td>\n",
       "      <td>2</td>\n",
       "      <td>3.0</td>\n",
       "      <td>climate change</td>\n",
       "      <td>0</td>\n",
       "      <td>0</td>\n",
       "      <td>0</td>\n",
       "      <td>0</td>\n",
       "    </tr>\n",
       "    <tr>\n",
       "      <th>2</th>\n",
       "      <td>Don't want to say</td>\n",
       "      <td>5.0</td>\n",
       "      <td>4.0</td>\n",
       "      <td>3.0</td>\n",
       "      <td>3.0</td>\n",
       "      <td>2.0</td>\n",
       "      <td>3.0</td>\n",
       "      <td>2.0</td>\n",
       "      <td>2.0</td>\n",
       "      <td>5.0</td>\n",
       "      <td>3.0</td>\n",
       "      <td>2</td>\n",
       "      <td>NaN</td>\n",
       "      <td>climate change</td>\n",
       "      <td>0</td>\n",
       "      <td>0</td>\n",
       "      <td>1</td>\n",
       "      <td>0</td>\n",
       "    </tr>\n",
       "    <tr>\n",
       "      <th>3</th>\n",
       "      <td>Boy</td>\n",
       "      <td>4.0</td>\n",
       "      <td>2.0</td>\n",
       "      <td>5.0</td>\n",
       "      <td>3.5</td>\n",
       "      <td>3.0</td>\n",
       "      <td>4.0</td>\n",
       "      <td>3.0</td>\n",
       "      <td>3.0</td>\n",
       "      <td>5.0</td>\n",
       "      <td>3.0</td>\n",
       "      <td>4</td>\n",
       "      <td>3.0</td>\n",
       "      <td>climate change</td>\n",
       "      <td>0</td>\n",
       "      <td>0</td>\n",
       "      <td>0</td>\n",
       "      <td>0</td>\n",
       "    </tr>\n",
       "    <tr>\n",
       "      <th>4</th>\n",
       "      <td>Girl</td>\n",
       "      <td>5.0</td>\n",
       "      <td>5.0</td>\n",
       "      <td>5.0</td>\n",
       "      <td>5.0</td>\n",
       "      <td>4.0</td>\n",
       "      <td>5.0</td>\n",
       "      <td>5.0</td>\n",
       "      <td>NaN</td>\n",
       "      <td>5.0</td>\n",
       "      <td>4.0</td>\n",
       "      <td>1</td>\n",
       "      <td>4.0</td>\n",
       "      <td>not aware</td>\n",
       "      <td>1</td>\n",
       "      <td>0</td>\n",
       "      <td>0</td>\n",
       "      <td>1</td>\n",
       "    </tr>\n",
       "  </tbody>\n",
       "</table>\n",
       "</div>"
      ],
      "text/plain": [
       "              Gender  view  perspective  value  action  PREOE5  PREOE6  \\\n",
       "0                Boy   5.0          4.0    4.0     4.0     4.0     2.0   \n",
       "1                Boy   4.0          5.0    4.0     3.0     5.0     5.0   \n",
       "2  Don't want to say   5.0          4.0    3.0     3.0     2.0     3.0   \n",
       "3                Boy   4.0          2.0    5.0     3.5     3.0     4.0   \n",
       "4               Girl   5.0          5.0    5.0     5.0     4.0     5.0   \n",
       "\n",
       "   PREOE7  PROE8  bonding  PREOE11  PREOE12  PREOE13          causes  \\\n",
       "0     5.0    4.0      5.0      3.0        1      2.0  climate change   \n",
       "1     5.0    4.0      5.0      4.0        2      3.0  climate change   \n",
       "2     2.0    2.0      5.0      3.0        2      NaN  climate change   \n",
       "3     3.0    3.0      5.0      3.0        4      3.0  climate change   \n",
       "4     5.0    NaN      5.0      4.0        1      4.0       not aware   \n",
       "\n",
       "   cause_not aware  cause_people's activities  gender_Don't want to say  \\\n",
       "0                0                          0                         0   \n",
       "1                0                          0                         0   \n",
       "2                0                          0                         1   \n",
       "3                0                          0                         0   \n",
       "4                1                          0                         0   \n",
       "\n",
       "   gender_Girl  \n",
       "0            0  \n",
       "1            0  \n",
       "2            0  \n",
       "3            0  \n",
       "4            1  "
      ]
     },
     "execution_count": 21,
     "metadata": {},
     "output_type": "execute_result"
    }
   ],
   "source": [
    "#Creating Dummy variables for causes and Gender\n",
    "\n",
    "causes = pd.get_dummies(survey['causes'], prefix='cause', drop_first=True)\n",
    "Gender = pd.get_dummies(survey['Gender'], prefix='gender', drop_first=True)\n",
    "\n",
    "# Combining the results to the original dataframe\n",
    "\n",
    "survey = pd.concat([survey, causes, Gender], axis=1)\n",
    "survey.head()"
   ]
  },
  {
   "cell_type": "code",
   "execution_count": 22,
   "id": "23f37869",
   "metadata": {},
   "outputs": [
    {
     "data": {
      "text/html": [
       "<div>\n",
       "<style scoped>\n",
       "    .dataframe tbody tr th:only-of-type {\n",
       "        vertical-align: middle;\n",
       "    }\n",
       "\n",
       "    .dataframe tbody tr th {\n",
       "        vertical-align: top;\n",
       "    }\n",
       "\n",
       "    .dataframe thead th {\n",
       "        text-align: right;\n",
       "    }\n",
       "</style>\n",
       "<table border=\"1\" class=\"dataframe\">\n",
       "  <thead>\n",
       "    <tr style=\"text-align: right;\">\n",
       "      <th></th>\n",
       "      <th>view</th>\n",
       "      <th>perspective</th>\n",
       "      <th>value</th>\n",
       "      <th>action</th>\n",
       "      <th>PREOE5</th>\n",
       "      <th>PREOE6</th>\n",
       "      <th>PREOE7</th>\n",
       "      <th>PROE8</th>\n",
       "      <th>bonding</th>\n",
       "      <th>PREOE11</th>\n",
       "      <th>PREOE12</th>\n",
       "      <th>PREOE13</th>\n",
       "      <th>cause_not aware</th>\n",
       "      <th>cause_people's activities</th>\n",
       "      <th>gender_Don't want to say</th>\n",
       "      <th>gender_Girl</th>\n",
       "    </tr>\n",
       "  </thead>\n",
       "  <tbody>\n",
       "    <tr>\n",
       "      <th>0</th>\n",
       "      <td>5.0</td>\n",
       "      <td>4.0</td>\n",
       "      <td>4.0</td>\n",
       "      <td>4.0</td>\n",
       "      <td>4.0</td>\n",
       "      <td>2.0</td>\n",
       "      <td>5.0</td>\n",
       "      <td>4.0</td>\n",
       "      <td>5.0</td>\n",
       "      <td>3.0</td>\n",
       "      <td>1</td>\n",
       "      <td>2.0</td>\n",
       "      <td>0</td>\n",
       "      <td>0</td>\n",
       "      <td>0</td>\n",
       "      <td>0</td>\n",
       "    </tr>\n",
       "    <tr>\n",
       "      <th>1</th>\n",
       "      <td>4.0</td>\n",
       "      <td>5.0</td>\n",
       "      <td>4.0</td>\n",
       "      <td>3.0</td>\n",
       "      <td>5.0</td>\n",
       "      <td>5.0</td>\n",
       "      <td>5.0</td>\n",
       "      <td>4.0</td>\n",
       "      <td>5.0</td>\n",
       "      <td>4.0</td>\n",
       "      <td>2</td>\n",
       "      <td>3.0</td>\n",
       "      <td>0</td>\n",
       "      <td>0</td>\n",
       "      <td>0</td>\n",
       "      <td>0</td>\n",
       "    </tr>\n",
       "    <tr>\n",
       "      <th>2</th>\n",
       "      <td>5.0</td>\n",
       "      <td>4.0</td>\n",
       "      <td>3.0</td>\n",
       "      <td>3.0</td>\n",
       "      <td>2.0</td>\n",
       "      <td>3.0</td>\n",
       "      <td>2.0</td>\n",
       "      <td>2.0</td>\n",
       "      <td>5.0</td>\n",
       "      <td>3.0</td>\n",
       "      <td>2</td>\n",
       "      <td>NaN</td>\n",
       "      <td>0</td>\n",
       "      <td>0</td>\n",
       "      <td>1</td>\n",
       "      <td>0</td>\n",
       "    </tr>\n",
       "    <tr>\n",
       "      <th>3</th>\n",
       "      <td>4.0</td>\n",
       "      <td>2.0</td>\n",
       "      <td>5.0</td>\n",
       "      <td>3.5</td>\n",
       "      <td>3.0</td>\n",
       "      <td>4.0</td>\n",
       "      <td>3.0</td>\n",
       "      <td>3.0</td>\n",
       "      <td>5.0</td>\n",
       "      <td>3.0</td>\n",
       "      <td>4</td>\n",
       "      <td>3.0</td>\n",
       "      <td>0</td>\n",
       "      <td>0</td>\n",
       "      <td>0</td>\n",
       "      <td>0</td>\n",
       "    </tr>\n",
       "    <tr>\n",
       "      <th>4</th>\n",
       "      <td>5.0</td>\n",
       "      <td>5.0</td>\n",
       "      <td>5.0</td>\n",
       "      <td>5.0</td>\n",
       "      <td>4.0</td>\n",
       "      <td>5.0</td>\n",
       "      <td>5.0</td>\n",
       "      <td>NaN</td>\n",
       "      <td>5.0</td>\n",
       "      <td>4.0</td>\n",
       "      <td>1</td>\n",
       "      <td>4.0</td>\n",
       "      <td>1</td>\n",
       "      <td>0</td>\n",
       "      <td>0</td>\n",
       "      <td>1</td>\n",
       "    </tr>\n",
       "  </tbody>\n",
       "</table>\n",
       "</div>"
      ],
      "text/plain": [
       "   view  perspective  value  action  PREOE5  PREOE6  PREOE7  PROE8  bonding  \\\n",
       "0   5.0          4.0    4.0     4.0     4.0     2.0     5.0    4.0      5.0   \n",
       "1   4.0          5.0    4.0     3.0     5.0     5.0     5.0    4.0      5.0   \n",
       "2   5.0          4.0    3.0     3.0     2.0     3.0     2.0    2.0      5.0   \n",
       "3   4.0          2.0    5.0     3.5     3.0     4.0     3.0    3.0      5.0   \n",
       "4   5.0          5.0    5.0     5.0     4.0     5.0     5.0    NaN      5.0   \n",
       "\n",
       "   PREOE11  PREOE12  PREOE13  cause_not aware  cause_people's activities  \\\n",
       "0      3.0        1      2.0                0                          0   \n",
       "1      4.0        2      3.0                0                          0   \n",
       "2      3.0        2      NaN                0                          0   \n",
       "3      3.0        4      3.0                0                          0   \n",
       "4      4.0        1      4.0                1                          0   \n",
       "\n",
       "   gender_Don't want to say  gender_Girl  \n",
       "0                         0            0  \n",
       "1                         0            0  \n",
       "2                         1            0  \n",
       "3                         0            0  \n",
       "4                         0            1  "
      ]
     },
     "execution_count": 22,
     "metadata": {},
     "output_type": "execute_result"
    }
   ],
   "source": [
    "#Dropping the categorical variables as they are already dummy-encoded\n",
    "\n",
    "survey.drop(['Gender','causes'], axis = 1, inplace = True)\n",
    "survey.head()"
   ]
  },
  {
   "cell_type": "code",
   "execution_count": 23,
   "id": "6a14ac64",
   "metadata": {},
   "outputs": [
    {
     "data": {
      "image/png": "[encoded data removed]",
      "text/plain": [
       "<Figure size 1800x1440 with 2 Axes>"
      ]
     },
     "metadata": {
      "needs_background": "light"
     },
     "output_type": "display_data"
    }
   ],
   "source": [
    "#Lets use Heatmap to check the correlation between variables at this point\n",
    "\n",
    "plt.figure(figsize=(25, 20))\n",
    "sns.heatmap(survey.corr(), cmap='plasma_r', annot = True)\n",
    "plt.show()"
   ]
  },
  {
   "cell_type": "markdown",
   "id": "7d8b0b7f",
   "metadata": {},
   "source": [
    "# Step 4: Splitting the Data into Training and Testing Sets"
   ]
  },
  {
   "cell_type": "code",
   "execution_count": 24,
   "id": "e56f7c49",
   "metadata": {},
   "outputs": [],
   "source": [
    "from sklearn.model_selection import train_test_split\n",
    "\n",
    "np.random.seed(0)\n",
    "survey_train, survey_test = train_test_split(survey, train_size = 0.7, test_size = 0.3, random_state = 100)"
   ]
  },
  {
   "cell_type": "markdown",
   "id": "29b14f52",
   "metadata": {},
   "source": [
    "## Rescaling the Features"
   ]
  },
  {
   "cell_type": "markdown",
   "id": "6bccf474",
   "metadata": {},
   "source": [
    "For the model to be easily interpretable, all variables must be on the same scale. We can use standardization or normalizing to ensure that the units of the computed coefficients are all on the same scale.\n",
    "\n",
    "- Min-Max scaling (Normalisation): Between 0 and 1\n",
    "\n",
    "- Standardisation: mean-0, sigma-1\n",
    "\n",
    "The benefit of Standardisation over Min-Max scaling is that it does not compress the data between a specific range. This is helpful, especially if there is an outlier data point. Because our dataset does not contain significant outliers, I'll use Normalisation."
   ]
  },
  {
   "cell_type": "code",
   "execution_count": 25,
   "id": "4da6ad1b",
   "metadata": {},
   "outputs": [],
   "source": [
    "#importing the library\n",
    "\n",
    "from sklearn.preprocessing import MinMaxScaler"
   ]
  },
  {
   "cell_type": "code",
   "execution_count": 26,
   "id": "a16d5c34",
   "metadata": {},
   "outputs": [
    {
     "data": {
      "text/html": [
       "<div>\n",
       "<style scoped>\n",
       "    .dataframe tbody tr th:only-of-type {\n",
       "        vertical-align: middle;\n",
       "    }\n",
       "\n",
       "    .dataframe tbody tr th {\n",
       "        vertical-align: top;\n",
       "    }\n",
       "\n",
       "    .dataframe thead th {\n",
       "        text-align: right;\n",
       "    }\n",
       "</style>\n",
       "<table border=\"1\" class=\"dataframe\">\n",
       "  <thead>\n",
       "    <tr style=\"text-align: right;\">\n",
       "      <th></th>\n",
       "      <th>view</th>\n",
       "      <th>perspective</th>\n",
       "      <th>value</th>\n",
       "      <th>action</th>\n",
       "      <th>PREOE5</th>\n",
       "      <th>PREOE6</th>\n",
       "      <th>PREOE7</th>\n",
       "      <th>PROE8</th>\n",
       "      <th>bonding</th>\n",
       "      <th>PREOE11</th>\n",
       "      <th>PREOE12</th>\n",
       "      <th>PREOE13</th>\n",
       "      <th>cause_not aware</th>\n",
       "      <th>cause_people's activities</th>\n",
       "      <th>gender_Don't want to say</th>\n",
       "      <th>gender_Girl</th>\n",
       "    </tr>\n",
       "  </thead>\n",
       "  <tbody>\n",
       "    <tr>\n",
       "      <th>25</th>\n",
       "      <td>NaN</td>\n",
       "      <td>NaN</td>\n",
       "      <td>NaN</td>\n",
       "      <td>NaN</td>\n",
       "      <td>NaN</td>\n",
       "      <td>NaN</td>\n",
       "      <td>NaN</td>\n",
       "      <td>0.50</td>\n",
       "      <td>1.00</td>\n",
       "      <td>0.50</td>\n",
       "      <td>0.50</td>\n",
       "      <td>0.50</td>\n",
       "      <td>0</td>\n",
       "      <td>0</td>\n",
       "      <td>0</td>\n",
       "      <td>0</td>\n",
       "    </tr>\n",
       "    <tr>\n",
       "      <th>40</th>\n",
       "      <td>0.25</td>\n",
       "      <td>1.000000</td>\n",
       "      <td>0.75</td>\n",
       "      <td>0.00</td>\n",
       "      <td>0.75</td>\n",
       "      <td>0.00</td>\n",
       "      <td>0.00</td>\n",
       "      <td>0.75</td>\n",
       "      <td>1.00</td>\n",
       "      <td>0.00</td>\n",
       "      <td>0.00</td>\n",
       "      <td>0.00</td>\n",
       "      <td>0</td>\n",
       "      <td>0</td>\n",
       "      <td>1</td>\n",
       "      <td>0</td>\n",
       "    </tr>\n",
       "    <tr>\n",
       "      <th>54</th>\n",
       "      <td>1.00</td>\n",
       "      <td>0.666667</td>\n",
       "      <td>0.50</td>\n",
       "      <td>0.50</td>\n",
       "      <td>0.50</td>\n",
       "      <td>1.00</td>\n",
       "      <td>1.00</td>\n",
       "      <td>1.00</td>\n",
       "      <td>0.50</td>\n",
       "      <td>0.75</td>\n",
       "      <td>0.25</td>\n",
       "      <td>1.00</td>\n",
       "      <td>0</td>\n",
       "      <td>0</td>\n",
       "      <td>0</td>\n",
       "      <td>1</td>\n",
       "    </tr>\n",
       "    <tr>\n",
       "      <th>89</th>\n",
       "      <td>0.75</td>\n",
       "      <td>0.666667</td>\n",
       "      <td>0.75</td>\n",
       "      <td>0.25</td>\n",
       "      <td>0.25</td>\n",
       "      <td>0.25</td>\n",
       "      <td>0.75</td>\n",
       "      <td>0.50</td>\n",
       "      <td>0.75</td>\n",
       "      <td>0.00</td>\n",
       "      <td>0.00</td>\n",
       "      <td>1.00</td>\n",
       "      <td>1</td>\n",
       "      <td>0</td>\n",
       "      <td>0</td>\n",
       "      <td>1</td>\n",
       "    </tr>\n",
       "    <tr>\n",
       "      <th>84</th>\n",
       "      <td>1.00</td>\n",
       "      <td>0.333333</td>\n",
       "      <td>1.00</td>\n",
       "      <td>0.75</td>\n",
       "      <td>1.00</td>\n",
       "      <td>1.00</td>\n",
       "      <td>1.00</td>\n",
       "      <td>1.00</td>\n",
       "      <td>0.75</td>\n",
       "      <td>1.00</td>\n",
       "      <td>0.75</td>\n",
       "      <td>0.75</td>\n",
       "      <td>0</td>\n",
       "      <td>0</td>\n",
       "      <td>0</td>\n",
       "      <td>1</td>\n",
       "    </tr>\n",
       "  </tbody>\n",
       "</table>\n",
       "</div>"
      ],
      "text/plain": [
       "    view  perspective  value  action  PREOE5  PREOE6  PREOE7  PROE8  bonding  \\\n",
       "25   NaN          NaN    NaN     NaN     NaN     NaN     NaN   0.50     1.00   \n",
       "40  0.25     1.000000   0.75    0.00    0.75    0.00    0.00   0.75     1.00   \n",
       "54  1.00     0.666667   0.50    0.50    0.50    1.00    1.00   1.00     0.50   \n",
       "89  0.75     0.666667   0.75    0.25    0.25    0.25    0.75   0.50     0.75   \n",
       "84  1.00     0.333333   1.00    0.75    1.00    1.00    1.00   1.00     0.75   \n",
       "\n",
       "    PREOE11  PREOE12  PREOE13  cause_not aware  cause_people's activities  \\\n",
       "25     0.50     0.50     0.50                0                          0   \n",
       "40     0.00     0.00     0.00                0                          0   \n",
       "54     0.75     0.25     1.00                0                          0   \n",
       "89     0.00     0.00     1.00                1                          0   \n",
       "84     1.00     0.75     0.75                0                          0   \n",
       "\n",
       "    gender_Don't want to say  gender_Girl  \n",
       "25                         0            0  \n",
       "40                         1            0  \n",
       "54                         0            1  \n",
       "89                         0            1  \n",
       "84                         0            1  "
      ]
     },
     "execution_count": 26,
     "metadata": {},
     "output_type": "execute_result"
    }
   ],
   "source": [
    "#Instantiate an object\n",
    "scaler = MinMaxScaler()\n",
    "\n",
    "#Creating a list of numeric variables\n",
    "num_vars = ['view','perspective','value','action','PREOE5','PREOE6','PREOE7','PROE8','bonding','PREOE11','PREOE12','PREOE13']\n",
    "\n",
    "#Fit on data\n",
    "survey_train[num_vars] = scaler.fit_transform(survey_train[num_vars])\n",
    "survey_train.head()"
   ]
  },
  {
   "cell_type": "code",
   "execution_count": 27,
   "id": "f7fb4f69",
   "metadata": {},
   "outputs": [
    {
     "name": "stdout",
     "output_type": "stream",
     "text": [
      "Missing Values:\n",
      " view           1\n",
      "perspective    1\n",
      "value          3\n",
      "action         1\n",
      "PREOE5         1\n",
      "PREOE6         1\n",
      "PREOE7         2\n",
      "PROE8          1\n",
      "bonding        1\n",
      "PREOE11        0\n",
      "PREOE12        0\n",
      "PREOE13        3\n",
      "dtype: int64\n"
     ]
    }
   ],
   "source": [
    "#Check for missing values again\n",
    "\n",
    "missing_values = survey_train[num_vars].isnull().sum()\n",
    "print('Missing Values:\\n', missing_values)"
   ]
  },
  {
   "cell_type": "code",
   "execution_count": 28,
   "id": "83558f68",
   "metadata": {},
   "outputs": [],
   "source": [
    "# Fill missing values with mean\n",
    "survey_train[num_vars] = survey_train[num_vars].fillna(survey_train[num_vars].mean())"
   ]
  },
  {
   "cell_type": "code",
   "execution_count": 29,
   "id": "fe9c792c",
   "metadata": {
    "scrolled": true
   },
   "outputs": [
    {
     "data": {
      "text/html": [
       "<div>\n",
       "<style scoped>\n",
       "    .dataframe tbody tr th:only-of-type {\n",
       "        vertical-align: middle;\n",
       "    }\n",
       "\n",
       "    .dataframe tbody tr th {\n",
       "        vertical-align: top;\n",
       "    }\n",
       "\n",
       "    .dataframe thead th {\n",
       "        text-align: right;\n",
       "    }\n",
       "</style>\n",
       "<table border=\"1\" class=\"dataframe\">\n",
       "  <thead>\n",
       "    <tr style=\"text-align: right;\">\n",
       "      <th></th>\n",
       "      <th>view</th>\n",
       "      <th>perspective</th>\n",
       "      <th>value</th>\n",
       "      <th>action</th>\n",
       "      <th>PREOE5</th>\n",
       "      <th>PREOE6</th>\n",
       "      <th>PREOE7</th>\n",
       "      <th>PROE8</th>\n",
       "      <th>bonding</th>\n",
       "      <th>PREOE11</th>\n",
       "      <th>PREOE12</th>\n",
       "      <th>PREOE13</th>\n",
       "      <th>cause_not aware</th>\n",
       "      <th>cause_people's activities</th>\n",
       "      <th>gender_Don't want to say</th>\n",
       "      <th>gender_Girl</th>\n",
       "    </tr>\n",
       "  </thead>\n",
       "  <tbody>\n",
       "    <tr>\n",
       "      <th>count</th>\n",
       "      <td>69.000000</td>\n",
       "      <td>69.000000</td>\n",
       "      <td>69.000000</td>\n",
       "      <td>69.000000</td>\n",
       "      <td>69.000000</td>\n",
       "      <td>69.000000</td>\n",
       "      <td>69.000000</td>\n",
       "      <td>69.000000</td>\n",
       "      <td>69.000000</td>\n",
       "      <td>69.000000</td>\n",
       "      <td>69.000000</td>\n",
       "      <td>69.000000</td>\n",
       "      <td>69.000000</td>\n",
       "      <td>69.000000</td>\n",
       "      <td>69.000000</td>\n",
       "      <td>69.000000</td>\n",
       "    </tr>\n",
       "    <tr>\n",
       "      <th>mean</th>\n",
       "      <td>0.753676</td>\n",
       "      <td>0.617647</td>\n",
       "      <td>0.787879</td>\n",
       "      <td>0.680147</td>\n",
       "      <td>0.720588</td>\n",
       "      <td>0.797794</td>\n",
       "      <td>0.779851</td>\n",
       "      <td>0.738971</td>\n",
       "      <td>0.738971</td>\n",
       "      <td>0.539855</td>\n",
       "      <td>0.409420</td>\n",
       "      <td>0.693182</td>\n",
       "      <td>0.246377</td>\n",
       "      <td>0.028986</td>\n",
       "      <td>0.144928</td>\n",
       "      <td>0.333333</td>\n",
       "    </tr>\n",
       "    <tr>\n",
       "      <th>std</th>\n",
       "      <td>0.216475</td>\n",
       "      <td>0.309251</td>\n",
       "      <td>0.227851</td>\n",
       "      <td>0.226245</td>\n",
       "      <td>0.272952</td>\n",
       "      <td>0.272034</td>\n",
       "      <td>0.272928</td>\n",
       "      <td>0.288995</td>\n",
       "      <td>0.208654</td>\n",
       "      <td>0.213829</td>\n",
       "      <td>0.290698</td>\n",
       "      <td>0.260074</td>\n",
       "      <td>0.434057</td>\n",
       "      <td>0.168995</td>\n",
       "      <td>0.354607</td>\n",
       "      <td>0.474858</td>\n",
       "    </tr>\n",
       "    <tr>\n",
       "      <th>min</th>\n",
       "      <td>0.000000</td>\n",
       "      <td>0.000000</td>\n",
       "      <td>0.000000</td>\n",
       "      <td>0.000000</td>\n",
       "      <td>0.000000</td>\n",
       "      <td>0.000000</td>\n",
       "      <td>0.000000</td>\n",
       "      <td>0.000000</td>\n",
       "      <td>0.000000</td>\n",
       "      <td>0.000000</td>\n",
       "      <td>0.000000</td>\n",
       "      <td>0.000000</td>\n",
       "      <td>0.000000</td>\n",
       "      <td>0.000000</td>\n",
       "      <td>0.000000</td>\n",
       "      <td>0.000000</td>\n",
       "    </tr>\n",
       "    <tr>\n",
       "      <th>25%</th>\n",
       "      <td>0.750000</td>\n",
       "      <td>0.333333</td>\n",
       "      <td>0.750000</td>\n",
       "      <td>0.500000</td>\n",
       "      <td>0.500000</td>\n",
       "      <td>0.750000</td>\n",
       "      <td>0.750000</td>\n",
       "      <td>0.500000</td>\n",
       "      <td>0.750000</td>\n",
       "      <td>0.500000</td>\n",
       "      <td>0.250000</td>\n",
       "      <td>0.500000</td>\n",
       "      <td>0.000000</td>\n",
       "      <td>0.000000</td>\n",
       "      <td>0.000000</td>\n",
       "      <td>0.000000</td>\n",
       "    </tr>\n",
       "    <tr>\n",
       "      <th>50%</th>\n",
       "      <td>0.750000</td>\n",
       "      <td>0.666667</td>\n",
       "      <td>0.750000</td>\n",
       "      <td>0.750000</td>\n",
       "      <td>0.750000</td>\n",
       "      <td>1.000000</td>\n",
       "      <td>0.750000</td>\n",
       "      <td>0.750000</td>\n",
       "      <td>0.750000</td>\n",
       "      <td>0.500000</td>\n",
       "      <td>0.500000</td>\n",
       "      <td>0.750000</td>\n",
       "      <td>0.000000</td>\n",
       "      <td>0.000000</td>\n",
       "      <td>0.000000</td>\n",
       "      <td>0.000000</td>\n",
       "    </tr>\n",
       "    <tr>\n",
       "      <th>75%</th>\n",
       "      <td>1.000000</td>\n",
       "      <td>0.666667</td>\n",
       "      <td>1.000000</td>\n",
       "      <td>0.750000</td>\n",
       "      <td>1.000000</td>\n",
       "      <td>1.000000</td>\n",
       "      <td>1.000000</td>\n",
       "      <td>1.000000</td>\n",
       "      <td>0.750000</td>\n",
       "      <td>0.750000</td>\n",
       "      <td>0.500000</td>\n",
       "      <td>0.750000</td>\n",
       "      <td>0.000000</td>\n",
       "      <td>0.000000</td>\n",
       "      <td>0.000000</td>\n",
       "      <td>1.000000</td>\n",
       "    </tr>\n",
       "    <tr>\n",
       "      <th>max</th>\n",
       "      <td>1.000000</td>\n",
       "      <td>1.000000</td>\n",
       "      <td>1.000000</td>\n",
       "      <td>1.000000</td>\n",
       "      <td>1.000000</td>\n",
       "      <td>1.000000</td>\n",
       "      <td>1.000000</td>\n",
       "      <td>1.000000</td>\n",
       "      <td>1.000000</td>\n",
       "      <td>1.000000</td>\n",
       "      <td>1.000000</td>\n",
       "      <td>1.000000</td>\n",
       "      <td>1.000000</td>\n",
       "      <td>1.000000</td>\n",
       "      <td>1.000000</td>\n",
       "      <td>1.000000</td>\n",
       "    </tr>\n",
       "  </tbody>\n",
       "</table>\n",
       "</div>"
      ],
      "text/plain": [
       "            view  perspective      value     action     PREOE5     PREOE6  \\\n",
       "count  69.000000    69.000000  69.000000  69.000000  69.000000  69.000000   \n",
       "mean    0.753676     0.617647   0.787879   0.680147   0.720588   0.797794   \n",
       "std     0.216475     0.309251   0.227851   0.226245   0.272952   0.272034   \n",
       "min     0.000000     0.000000   0.000000   0.000000   0.000000   0.000000   \n",
       "25%     0.750000     0.333333   0.750000   0.500000   0.500000   0.750000   \n",
       "50%     0.750000     0.666667   0.750000   0.750000   0.750000   1.000000   \n",
       "75%     1.000000     0.666667   1.000000   0.750000   1.000000   1.000000   \n",
       "max     1.000000     1.000000   1.000000   1.000000   1.000000   1.000000   \n",
       "\n",
       "          PREOE7      PROE8    bonding    PREOE11    PREOE12    PREOE13  \\\n",
       "count  69.000000  69.000000  69.000000  69.000000  69.000000  69.000000   \n",
       "mean    0.779851   0.738971   0.738971   0.539855   0.409420   0.693182   \n",
       "std     0.272928   0.288995   0.208654   0.213829   0.290698   0.260074   \n",
       "min     0.000000   0.000000   0.000000   0.000000   0.000000   0.000000   \n",
       "25%     0.750000   0.500000   0.750000   0.500000   0.250000   0.500000   \n",
       "50%     0.750000   0.750000   0.750000   0.500000   0.500000   0.750000   \n",
       "75%     1.000000   1.000000   0.750000   0.750000   0.500000   0.750000   \n",
       "max     1.000000   1.000000   1.000000   1.000000   1.000000   1.000000   \n",
       "\n",
       "       cause_not aware  cause_people's activities  gender_Don't want to say  \\\n",
       "count        69.000000                  69.000000                 69.000000   \n",
       "mean          0.246377                   0.028986                  0.144928   \n",
       "std           0.434057                   0.168995                  0.354607   \n",
       "min           0.000000                   0.000000                  0.000000   \n",
       "25%           0.000000                   0.000000                  0.000000   \n",
       "50%           0.000000                   0.000000                  0.000000   \n",
       "75%           0.000000                   0.000000                  0.000000   \n",
       "max           1.000000                   1.000000                  1.000000   \n",
       "\n",
       "       gender_Girl  \n",
       "count    69.000000  \n",
       "mean      0.333333  \n",
       "std       0.474858  \n",
       "min       0.000000  \n",
       "25%       0.000000  \n",
       "50%       0.000000  \n",
       "75%       1.000000  \n",
       "max       1.000000  "
      ]
     },
     "execution_count": 29,
     "metadata": {},
     "output_type": "execute_result"
    }
   ],
   "source": [
    "#Checking numeric variables after scaling\n",
    "survey_train.describe()"
   ]
  },
  {
   "cell_type": "markdown",
   "id": "e0aa0d90",
   "metadata": {},
   "source": [
    "All of our numeric variables are mapped between 0 and 1."
   ]
  },
  {
   "cell_type": "markdown",
   "id": "f8eb1202",
   "metadata": {},
   "source": [
    "Let's test our assumption on multicollinearity that predictors are not correlated with each other."
   ]
  },
  {
   "cell_type": "code",
   "execution_count": 30,
   "id": "37036e08",
   "metadata": {
    "scrolled": false
   },
   "outputs": [
    {
     "data": {
      "image/png": "[encoded data removed]",
      "text/plain": [
       "<Figure size 1800x1440 with 2 Axes>"
      ]
     },
     "metadata": {
      "needs_background": "light"
     },
     "output_type": "display_data"
    }
   ],
   "source": [
    "#Checking correlation coefficients to see which variables are highly correlated after scaling\n",
    "\n",
    "plt.figure(figsize=(25, 20))\n",
    "sns.heatmap(survey_train.corr(), annot = True)\n",
    "plt.show()"
   ]
  },
  {
   "cell_type": "markdown",
   "id": "c4188a7e",
   "metadata": {},
   "source": [
    "We notice that 'view' and 'value' are correlated to the 'bonding' variable, so our assumption holds.\n",
    "There are other factors that correlated to 'bonding' (PREOE6 & PREOE12); however, they are not relevant in our research. Thus, we can ignore them."
   ]
  },
  {
   "cell_type": "markdown",
   "id": "c35f104b",
   "metadata": {},
   "source": [
    "## Dividing into X and Y sets for the model building"
   ]
  },
  {
   "cell_type": "code",
   "execution_count": 31,
   "id": "ca183cb6",
   "metadata": {},
   "outputs": [],
   "source": [
    "y_train = survey_train.pop('view')\n",
    "x_train = survey_train"
   ]
  },
  {
   "cell_type": "markdown",
   "id": "e626cfe2",
   "metadata": {},
   "source": [
    "# Step 5: Building a linear model"
   ]
  },
  {
   "cell_type": "markdown",
   "id": "747bf7cf",
   "metadata": {},
   "source": [
    "We will use the SciKit Learn LinearRegression function for its compatibility with RFE (Recursive Feature Elimination - a utility from sklearn)."
   ]
  },
  {
   "cell_type": "code",
   "execution_count": 32,
   "id": "747e253c",
   "metadata": {},
   "outputs": [],
   "source": [
    "# Importing RFE and LinearRegression\n",
    "\n",
    "from sklearn.feature_selection import RFE\n",
    "from sklearn.linear_model import LinearRegression"
   ]
  },
  {
   "cell_type": "code",
   "execution_count": 33,
   "id": "a8552b1a",
   "metadata": {},
   "outputs": [],
   "source": [
    "# Running RFE with the output number of the variable equal to 10\n",
    "\n",
    "lm = LinearRegression()\n",
    "lm.fit(x_train, y_train)\n",
    "\n",
    "rfe = RFE(lm, step = 10)\n",
    "rfe = rfe.fit(x_train, y_train)"
   ]
  },
  {
   "cell_type": "code",
   "execution_count": 34,
   "id": "bcfa6004",
   "metadata": {},
   "outputs": [
    {
     "data": {
      "text/plain": [
       "[('perspective', False, 2),\n",
       " ('value', True, 1),\n",
       " ('action', True, 1),\n",
       " ('PREOE5', False, 2),\n",
       " ('PREOE6', True, 1),\n",
       " ('PREOE7', True, 1),\n",
       " ('PROE8', False, 2),\n",
       " ('bonding', True, 1),\n",
       " ('PREOE11', True, 1),\n",
       " ('PREOE12', False, 2),\n",
       " ('PREOE13', False, 2),\n",
       " ('cause_not aware', False, 2),\n",
       " (\"cause_people's activities\", False, 2),\n",
       " (\"gender_Don't want to say\", True, 1),\n",
       " ('gender_Girl', False, 2)]"
      ]
     },
     "execution_count": 34,
     "metadata": {},
     "output_type": "execute_result"
    }
   ],
   "source": [
    "#List of variables selected\n",
    "\n",
    "list(zip(x_train.columns,rfe.support_,rfe.ranking_))"
   ]
  },
  {
   "cell_type": "code",
   "execution_count": 35,
   "id": "382e35bf",
   "metadata": {},
   "outputs": [
    {
     "data": {
      "text/plain": [
       "Index(['value', 'action', 'PREOE6', 'PREOE7', 'bonding', 'PREOE11',\n",
       "       'gender_Don't want to say'],\n",
       "      dtype='object')"
      ]
     },
     "execution_count": 35,
     "metadata": {},
     "output_type": "execute_result"
    }
   ],
   "source": [
    "#Columns where RFE support is True\n",
    "\n",
    "col = x_train.columns[rfe.support_]\n",
    "col"
   ]
  },
  {
   "cell_type": "code",
   "execution_count": 36,
   "id": "40e47f33",
   "metadata": {},
   "outputs": [
    {
     "data": {
      "text/plain": [
       "Index(['perspective', 'PREOE5', 'PROE8', 'PREOE12', 'PREOE13',\n",
       "       'cause_not aware', 'cause_people's activities', 'gender_Girl'],\n",
       "      dtype='object')"
      ]
     },
     "execution_count": 36,
     "metadata": {},
     "output_type": "execute_result"
    }
   ],
   "source": [
    "#Columns where RFE support is False\n",
    "\n",
    "x_train.columns[~rfe.support_]"
   ]
  },
  {
   "cell_type": "markdown",
   "id": "2e9cc9de",
   "metadata": {},
   "source": [
    "## Building model using statsmodel"
   ]
  },
  {
   "cell_type": "code",
   "execution_count": 37,
   "id": "6977bace",
   "metadata": {},
   "outputs": [],
   "source": [
    "#Creating x_test dataframe with RFE selected variables\n",
    "\n",
    "x_train_rfe = x_train[col]"
   ]
  },
  {
   "cell_type": "code",
   "execution_count": 38,
   "id": "882708d7",
   "metadata": {},
   "outputs": [],
   "source": [
    "#Adding a constant variable\n",
    "\n",
    "import statsmodels.api as sm  \n",
    "x_train_rfe = sm.add_constant(x_train_rfe)"
   ]
  },
  {
   "cell_type": "code",
   "execution_count": 39,
   "id": "9f0370ff",
   "metadata": {
    "scrolled": true
   },
   "outputs": [
    {
     "name": "stdout",
     "output_type": "stream",
     "text": [
      "                            OLS Regression Results                            \n",
      "==============================================================================\n",
      "Dep. Variable:                   view   R-squared:                       0.264\n",
      "Model:                            OLS   Adj. R-squared:                  0.179\n",
      "Method:                 Least Squares   F-statistic:                     3.119\n",
      "Date:                Sat, 18 May 2024   Prob (F-statistic):            0.00702\n",
      "Time:                        15:54:42   Log-Likelihood:                 18.742\n",
      "No. Observations:                  69   AIC:                            -21.48\n",
      "Df Residuals:                      61   BIC:                            -3.611\n",
      "Df Model:                           7                                         \n",
      "Covariance Type:            nonrobust                                         \n",
      "============================================================================================\n",
      "                               coef    std err          t      P>|t|      [0.025      0.975]\n",
      "--------------------------------------------------------------------------------------------\n",
      "const                        0.1759      0.153      1.149      0.255      -0.130       0.482\n",
      "value                       -0.1873      0.119     -1.573      0.121      -0.425       0.051\n",
      "action                       0.1588      0.115      1.386      0.171      -0.070       0.388\n",
      "PREOE6                       0.0498      0.119      0.419      0.677      -0.188       0.288\n",
      "PREOE7                       0.3102      0.113      2.744      0.008       0.084       0.536\n",
      "bonding                      0.3293      0.121      2.733      0.008       0.088       0.570\n",
      "PREOE11                      0.1407      0.124      1.133      0.262      -0.108       0.389\n",
      "gender_Don't want to say     0.1131      0.077      1.470      0.147      -0.041       0.267\n",
      "==============================================================================\n",
      "Omnibus:                        1.651   Durbin-Watson:                   1.479\n",
      "Prob(Omnibus):                  0.438   Jarque-Bera (JB):                1.625\n",
      "Skew:                          -0.294   Prob(JB):                        0.444\n",
      "Kurtosis:                       2.532   Cond. No.                         16.3\n",
      "==============================================================================\n",
      "\n",
      "Notes:\n",
      "[1] Standard Errors assume that the covariance matrix of the errors is correctly specified.\n"
     ]
    }
   ],
   "source": [
    "#Running the linear model\n",
    "\n",
    "lm = sm.OLS(y_train, x_train_rfe).fit()\n",
    "print(lm.summary())"
   ]
  },
  {
   "cell_type": "markdown",
   "id": "0b86312a",
   "metadata": {},
   "source": [
    "- Some the variables have p-values less than 0.05, except PREOE6, PREOE11, value, action, and gender_Don't want to say. Hence, we can drop them.\n",
    "\n",
    "- Let's check VIFs before deciding whether to keep or drop these variables."
   ]
  },
  {
   "cell_type": "markdown",
   "id": "c5aca528",
   "metadata": {},
   "source": [
    "### Checking VIF\n",
    "\n",
    "The Variance Inflation Factor (VIF) provides a simple quantitative estimate of how strongly the feature variables are associated with one another. It is a critical parameter for testing our linear model. VIF is calculated using the following formula:\n",
    "\n",
    "### $ VIF_i = \\frac{1}{1 - {R_i}^2} $"
   ]
  },
  {
   "cell_type": "code",
   "execution_count": 40,
   "id": "52fdd8ca",
   "metadata": {},
   "outputs": [],
   "source": [
    "#Dropping the constant term B0\n",
    "\n",
    "x_train_rfe = x_train_rfe.drop(['const'], axis=1)"
   ]
  },
  {
   "cell_type": "code",
   "execution_count": 41,
   "id": "05ce5f37",
   "metadata": {
    "scrolled": true
   },
   "outputs": [
    {
     "data": {
      "text/html": [
       "<div>\n",
       "<style scoped>\n",
       "    .dataframe tbody tr th:only-of-type {\n",
       "        vertical-align: middle;\n",
       "    }\n",
       "\n",
       "    .dataframe tbody tr th {\n",
       "        vertical-align: top;\n",
       "    }\n",
       "\n",
       "    .dataframe thead th {\n",
       "        text-align: right;\n",
       "    }\n",
       "</style>\n",
       "<table border=\"1\" class=\"dataframe\">\n",
       "  <thead>\n",
       "    <tr style=\"text-align: right;\">\n",
       "      <th></th>\n",
       "      <th>Features</th>\n",
       "      <th>VIF</th>\n",
       "    </tr>\n",
       "  </thead>\n",
       "  <tbody>\n",
       "    <tr>\n",
       "      <th>0</th>\n",
       "      <td>value</td>\n",
       "      <td>16.78</td>\n",
       "    </tr>\n",
       "    <tr>\n",
       "      <th>2</th>\n",
       "      <td>PREOE6</td>\n",
       "      <td>16.73</td>\n",
       "    </tr>\n",
       "    <tr>\n",
       "      <th>3</th>\n",
       "      <td>PREOE7</td>\n",
       "      <td>14.93</td>\n",
       "    </tr>\n",
       "    <tr>\n",
       "      <th>1</th>\n",
       "      <td>action</td>\n",
       "      <td>10.55</td>\n",
       "    </tr>\n",
       "    <tr>\n",
       "      <th>4</th>\n",
       "      <td>bonding</td>\n",
       "      <td>10.18</td>\n",
       "    </tr>\n",
       "    <tr>\n",
       "      <th>5</th>\n",
       "      <td>PREOE11</td>\n",
       "      <td>9.15</td>\n",
       "    </tr>\n",
       "    <tr>\n",
       "      <th>6</th>\n",
       "      <td>gender_Don't want to say</td>\n",
       "      <td>1.25</td>\n",
       "    </tr>\n",
       "  </tbody>\n",
       "</table>\n",
       "</div>"
      ],
      "text/plain": [
       "                   Features    VIF\n",
       "0                     value  16.78\n",
       "2                    PREOE6  16.73\n",
       "3                    PREOE7  14.93\n",
       "1                    action  10.55\n",
       "4                   bonding  10.18\n",
       "5                   PREOE11   9.15\n",
       "6  gender_Don't want to say   1.25"
      ]
     },
     "execution_count": 41,
     "metadata": {},
     "output_type": "execute_result"
    }
   ],
   "source": [
    "#Calculating the VIFs for the new model\n",
    "\n",
    "from statsmodels.stats.outliers_influence import variance_inflation_factor\n",
    "\n",
    "vif = pd.DataFrame()\n",
    "x = x_train_rfe\n",
    "vif['Features'] = x.columns\n",
    "vif['VIF'] = [variance_inflation_factor(x.values, i) for i in range(x.shape[1])]\n",
    "vif['VIF'] = round(vif['VIF'], 2)\n",
    "vif = vif.sort_values(by = 'VIF', ascending = False)\n",
    "vif"
   ]
  },
  {
   "cell_type": "markdown",
   "id": "44650a50",
   "metadata": {},
   "source": [
    "As we can notice, variable PREOE6 has VIF > 10 (insignificant variable), thus we can drop it."
   ]
  },
  {
   "cell_type": "markdown",
   "id": "11cb52b9",
   "metadata": {},
   "source": [
    "#### Rebuilding the model without 'PREOE6'"
   ]
  },
  {
   "cell_type": "code",
   "execution_count": 42,
   "id": "2a27adf8",
   "metadata": {},
   "outputs": [],
   "source": [
    "#Dropping variables having VIF > 10\n",
    "\n",
    "x_train_2 = x_train_rfe.drop(['PREOE6'], axis = 1)"
   ]
  },
  {
   "cell_type": "code",
   "execution_count": 43,
   "id": "58ac36e0",
   "metadata": {
    "scrolled": true
   },
   "outputs": [
    {
     "name": "stdout",
     "output_type": "stream",
     "text": [
      "                            OLS Regression Results                            \n",
      "==============================================================================\n",
      "Dep. Variable:                   view   R-squared:                       0.261\n",
      "Model:                            OLS   Adj. R-squared:                  0.190\n",
      "Method:                 Least Squares   F-statistic:                     3.658\n",
      "Date:                Sat, 18 May 2024   Prob (F-statistic):            0.00357\n",
      "Time:                        15:54:43   Log-Likelihood:                 18.643\n",
      "No. Observations:                  69   AIC:                            -23.29\n",
      "Df Residuals:                      62   BIC:                            -7.647\n",
      "Df Model:                           6                                         \n",
      "Covariance Type:            nonrobust                                         \n",
      "============================================================================================\n",
      "                               coef    std err          t      P>|t|      [0.025      0.975]\n",
      "--------------------------------------------------------------------------------------------\n",
      "const                        0.1931      0.147      1.318      0.192      -0.100       0.486\n",
      "value                       -0.1805      0.117     -1.541      0.128      -0.415       0.054\n",
      "action                       0.1613      0.114      1.420      0.161      -0.066       0.388\n",
      "PREOE7                       0.3312      0.101      3.293      0.002       0.130       0.532\n",
      "bonding                      0.3173      0.116      2.729      0.008       0.085       0.550\n",
      "PREOE11                      0.1571      0.117      1.341      0.185      -0.077       0.391\n",
      "gender_Don't want to say     0.1072      0.075      1.427      0.159      -0.043       0.257\n",
      "==============================================================================\n",
      "Omnibus:                        1.626   Durbin-Watson:                   1.504\n",
      "Prob(Omnibus):                  0.443   Jarque-Bera (JB):                1.538\n",
      "Skew:                          -0.258   Prob(JB):                        0.463\n",
      "Kurtosis:                       2.482   Cond. No.                         14.6\n",
      "==============================================================================\n",
      "\n",
      "Notes:\n",
      "[1] Standard Errors assume that the covariance matrix of the errors is correctly specified.\n"
     ]
    }
   ],
   "source": [
    "#Building a model\n",
    "\n",
    "x_train_lm2 = sm.add_constant(x_train_2)\n",
    "lm2 = sm.OLS(y_train, x_train_lm2).fit()\n",
    "print(lm2.summary())"
   ]
  },
  {
   "cell_type": "code",
   "execution_count": 44,
   "id": "cc302fdb",
   "metadata": {},
   "outputs": [],
   "source": [
    "#Dropping the constant term B0\n",
    "\n",
    "x_train_lm2 = x_train_lm2.drop(['const'], axis=1)"
   ]
  },
  {
   "cell_type": "code",
   "execution_count": 45,
   "id": "eff8403e",
   "metadata": {
    "scrolled": true
   },
   "outputs": [
    {
     "data": {
      "text/html": [
       "<div>\n",
       "<style scoped>\n",
       "    .dataframe tbody tr th:only-of-type {\n",
       "        vertical-align: middle;\n",
       "    }\n",
       "\n",
       "    .dataframe tbody tr th {\n",
       "        vertical-align: top;\n",
       "    }\n",
       "\n",
       "    .dataframe thead th {\n",
       "        text-align: right;\n",
       "    }\n",
       "</style>\n",
       "<table border=\"1\" class=\"dataframe\">\n",
       "  <thead>\n",
       "    <tr style=\"text-align: right;\">\n",
       "      <th></th>\n",
       "      <th>Features</th>\n",
       "      <th>VIF</th>\n",
       "    </tr>\n",
       "  </thead>\n",
       "  <tbody>\n",
       "    <tr>\n",
       "      <th>0</th>\n",
       "      <td>value</td>\n",
       "      <td>16.24</td>\n",
       "    </tr>\n",
       "    <tr>\n",
       "      <th>2</th>\n",
       "      <td>PREOE7</td>\n",
       "      <td>10.71</td>\n",
       "    </tr>\n",
       "    <tr>\n",
       "      <th>1</th>\n",
       "      <td>action</td>\n",
       "      <td>10.26</td>\n",
       "    </tr>\n",
       "    <tr>\n",
       "      <th>3</th>\n",
       "      <td>bonding</td>\n",
       "      <td>10.06</td>\n",
       "    </tr>\n",
       "    <tr>\n",
       "      <th>4</th>\n",
       "      <td>PREOE11</td>\n",
       "      <td>7.92</td>\n",
       "    </tr>\n",
       "    <tr>\n",
       "      <th>5</th>\n",
       "      <td>gender_Don't want to say</td>\n",
       "      <td>1.25</td>\n",
       "    </tr>\n",
       "  </tbody>\n",
       "</table>\n",
       "</div>"
      ],
      "text/plain": [
       "                   Features    VIF\n",
       "0                     value  16.24\n",
       "2                    PREOE7  10.71\n",
       "1                    action  10.26\n",
       "3                   bonding  10.06\n",
       "4                   PREOE11   7.92\n",
       "5  gender_Don't want to say   1.25"
      ]
     },
     "execution_count": 45,
     "metadata": {},
     "output_type": "execute_result"
    }
   ],
   "source": [
    "#Calculating the VIFs for the new model\n",
    "\n",
    "vif = pd.DataFrame()\n",
    "x = x_train_2\n",
    "vif['Features'] = x.columns\n",
    "vif['VIF'] = [variance_inflation_factor(x.values, i) for i in range(x.shape[1])]\n",
    "vif['VIF'] = round(vif['VIF'], 2)\n",
    "vif = vif.sort_values(by = 'VIF', ascending = False)\n",
    "vif"
   ]
  },
  {
   "cell_type": "markdown",
   "id": "7d646be0",
   "metadata": {},
   "source": [
    "As we can notice, value variable has VIF > 10 (insignificant variable), thus we can drop it."
   ]
  },
  {
   "cell_type": "markdown",
   "id": "832c0f78",
   "metadata": {},
   "source": [
    "#### Rebuilding the model without 'value'"
   ]
  },
  {
   "cell_type": "code",
   "execution_count": 46,
   "id": "bd2d8276",
   "metadata": {},
   "outputs": [],
   "source": [
    "#Dropping 'value'\n",
    "\n",
    "x_train_3 = x_train_lm2.drop(['value'], axis = 1)"
   ]
  },
  {
   "cell_type": "code",
   "execution_count": 47,
   "id": "7b7dfc4b",
   "metadata": {},
   "outputs": [
    {
     "name": "stdout",
     "output_type": "stream",
     "text": [
      "                            OLS Regression Results                            \n",
      "==============================================================================\n",
      "Dep. Variable:                   view   R-squared:                       0.233\n",
      "Model:                            OLS   Adj. R-squared:                  0.172\n",
      "Method:                 Least Squares   F-statistic:                     3.832\n",
      "Date:                Sat, 18 May 2024   Prob (F-statistic):            0.00429\n",
      "Time:                        15:54:43   Log-Likelihood:                 17.346\n",
      "No. Observations:                  69   AIC:                            -22.69\n",
      "Df Residuals:                      63   BIC:                            -9.288\n",
      "Df Model:                           5                                         \n",
      "Covariance Type:            nonrobust                                         \n",
      "============================================================================================\n",
      "                               coef    std err          t      P>|t|      [0.025      0.975]\n",
      "--------------------------------------------------------------------------------------------\n",
      "const                        0.1534      0.146      1.052      0.297      -0.138       0.445\n",
      "action                       0.1363      0.114      1.199      0.235      -0.091       0.363\n",
      "PREOE7                       0.2779      0.095      2.911      0.005       0.087       0.469\n",
      "bonding                      0.2828      0.115      2.452      0.017       0.052       0.513\n",
      "PREOE11                      0.1258      0.117      1.078      0.285      -0.107       0.359\n",
      "gender_Don't want to say     0.0959      0.076      1.269      0.209      -0.055       0.247\n",
      "==============================================================================\n",
      "Omnibus:                        1.872   Durbin-Watson:                   1.582\n",
      "Prob(Omnibus):                  0.392   Jarque-Bera (JB):                1.528\n",
      "Skew:                          -0.199   Prob(JB):                        0.466\n",
      "Kurtosis:                       2.389   Cond. No.                         13.2\n",
      "==============================================================================\n",
      "\n",
      "Notes:\n",
      "[1] Standard Errors assume that the covariance matrix of the errors is correctly specified.\n"
     ]
    }
   ],
   "source": [
    "#Building a model\n",
    "\n",
    "x_train_lm3 = sm.add_constant(x_train_3)\n",
    "lm3 = sm.OLS(y_train, x_train_lm3).fit()\n",
    "print(lm3.summary())"
   ]
  },
  {
   "cell_type": "code",
   "execution_count": 48,
   "id": "7d081e4f",
   "metadata": {},
   "outputs": [],
   "source": [
    "#Dropping the constant term B0\n",
    "\n",
    "x_train_lm3 = x_train_lm3.drop(['const'], axis=1)"
   ]
  },
  {
   "cell_type": "code",
   "execution_count": 49,
   "id": "8ac1eb7b",
   "metadata": {},
   "outputs": [
    {
     "data": {
      "text/html": [
       "<div>\n",
       "<style scoped>\n",
       "    .dataframe tbody tr th:only-of-type {\n",
       "        vertical-align: middle;\n",
       "    }\n",
       "\n",
       "    .dataframe tbody tr th {\n",
       "        vertical-align: top;\n",
       "    }\n",
       "\n",
       "    .dataframe thead th {\n",
       "        text-align: right;\n",
       "    }\n",
       "</style>\n",
       "<table border=\"1\" class=\"dataframe\">\n",
       "  <thead>\n",
       "    <tr style=\"text-align: right;\">\n",
       "      <th></th>\n",
       "      <th>Features</th>\n",
       "      <th>VIF</th>\n",
       "    </tr>\n",
       "  </thead>\n",
       "  <tbody>\n",
       "    <tr>\n",
       "      <th>0</th>\n",
       "      <td>action</td>\n",
       "      <td>9.71</td>\n",
       "    </tr>\n",
       "    <tr>\n",
       "      <th>2</th>\n",
       "      <td>bonding</td>\n",
       "      <td>8.81</td>\n",
       "    </tr>\n",
       "    <tr>\n",
       "      <th>1</th>\n",
       "      <td>PREOE7</td>\n",
       "      <td>8.53</td>\n",
       "    </tr>\n",
       "    <tr>\n",
       "      <th>3</th>\n",
       "      <td>PREOE11</td>\n",
       "      <td>7.52</td>\n",
       "    </tr>\n",
       "    <tr>\n",
       "      <th>4</th>\n",
       "      <td>gender_Don't want to say</td>\n",
       "      <td>1.20</td>\n",
       "    </tr>\n",
       "  </tbody>\n",
       "</table>\n",
       "</div>"
      ],
      "text/plain": [
       "                   Features   VIF\n",
       "0                    action  9.71\n",
       "2                   bonding  8.81\n",
       "1                    PREOE7  8.53\n",
       "3                   PREOE11  7.52\n",
       "4  gender_Don't want to say  1.20"
      ]
     },
     "execution_count": 49,
     "metadata": {},
     "output_type": "execute_result"
    }
   ],
   "source": [
    "#Calculating the VIFs for the new model\n",
    "\n",
    "vif = pd.DataFrame()\n",
    "x = x_train_3\n",
    "vif['Features'] = x.columns\n",
    "vif['VIF'] = [variance_inflation_factor(x.values, i) for i in range(x.shape[1])]\n",
    "vif['VIF'] = round(vif['VIF'], 2)\n",
    "vif = vif.sort_values(by = 'VIF', ascending = False)\n",
    "vif"
   ]
  },
  {
   "cell_type": "markdown",
   "id": "17c0512f",
   "metadata": {},
   "source": [
    "As we can notice, variable 'action' has p-value > 0.05 and highest VIF, thus we can drop it."
   ]
  },
  {
   "cell_type": "markdown",
   "id": "e628f476",
   "metadata": {},
   "source": [
    "#### Rebuilding the model without 'action'"
   ]
  },
  {
   "cell_type": "code",
   "execution_count": 50,
   "id": "2f730c11",
   "metadata": {},
   "outputs": [],
   "source": [
    "#Dropping 'action'\n",
    "\n",
    "x_train_4 = x_train_lm3.drop(['action'], axis = 1)"
   ]
  },
  {
   "cell_type": "code",
   "execution_count": 51,
   "id": "d9c38f3d",
   "metadata": {
    "scrolled": true
   },
   "outputs": [
    {
     "name": "stdout",
     "output_type": "stream",
     "text": [
      "                            OLS Regression Results                            \n",
      "==============================================================================\n",
      "Dep. Variable:                   view   R-squared:                       0.216\n",
      "Model:                            OLS   Adj. R-squared:                  0.167\n",
      "Method:                 Least Squares   F-statistic:                     4.400\n",
      "Date:                Sat, 18 May 2024   Prob (F-statistic):            0.00332\n",
      "Time:                        15:54:43   Log-Likelihood:                 16.568\n",
      "No. Observations:                  69   AIC:                            -23.14\n",
      "Df Residuals:                      64   BIC:                            -11.96\n",
      "Df Model:                           4                                         \n",
      "Covariance Type:            nonrobust                                         \n",
      "============================================================================================\n",
      "                               coef    std err          t      P>|t|      [0.025      0.975]\n",
      "--------------------------------------------------------------------------------------------\n",
      "const                        0.2269      0.133      1.710      0.092      -0.038       0.492\n",
      "PREOE7                       0.2799      0.096      2.922      0.005       0.089       0.471\n",
      "bonding                      0.2861      0.116      2.474      0.016       0.055       0.517\n",
      "PREOE11                      0.1599      0.113      1.409      0.164      -0.067       0.387\n",
      "gender_Don't want to say     0.0736      0.074      1.001      0.321      -0.073       0.220\n",
      "==============================================================================\n",
      "Omnibus:                        1.676   Durbin-Watson:                   1.615\n",
      "Prob(Omnibus):                  0.433   Jarque-Bera (JB):                1.466\n",
      "Skew:                          -0.212   Prob(JB):                        0.481\n",
      "Kurtosis:                       2.426   Cond. No.                         11.5\n",
      "==============================================================================\n",
      "\n",
      "Notes:\n",
      "[1] Standard Errors assume that the covariance matrix of the errors is correctly specified.\n"
     ]
    }
   ],
   "source": [
    "#Building a model\n",
    "\n",
    "x_train_lm4 = sm.add_constant(x_train_4)\n",
    "lm4 = sm.OLS(y_train, x_train_lm4).fit()\n",
    "print(lm4.summary())"
   ]
  },
  {
   "cell_type": "code",
   "execution_count": 52,
   "id": "a0350430",
   "metadata": {},
   "outputs": [],
   "source": [
    "#Dropping the constant term B0\n",
    "\n",
    "x_train_lm4 = x_train_lm4.drop(['const'], axis=1)"
   ]
  },
  {
   "cell_type": "code",
   "execution_count": 53,
   "id": "9c01d5da",
   "metadata": {},
   "outputs": [
    {
     "data": {
      "text/html": [
       "<div>\n",
       "<style scoped>\n",
       "    .dataframe tbody tr th:only-of-type {\n",
       "        vertical-align: middle;\n",
       "    }\n",
       "\n",
       "    .dataframe tbody tr th {\n",
       "        vertical-align: top;\n",
       "    }\n",
       "\n",
       "    .dataframe thead th {\n",
       "        text-align: right;\n",
       "    }\n",
       "</style>\n",
       "<table border=\"1\" class=\"dataframe\">\n",
       "  <thead>\n",
       "    <tr style=\"text-align: right;\">\n",
       "      <th></th>\n",
       "      <th>Features</th>\n",
       "      <th>VIF</th>\n",
       "    </tr>\n",
       "  </thead>\n",
       "  <tbody>\n",
       "    <tr>\n",
       "      <th>0</th>\n",
       "      <td>PREOE7</td>\n",
       "      <td>7.88</td>\n",
       "    </tr>\n",
       "    <tr>\n",
       "      <th>1</th>\n",
       "      <td>bonding</td>\n",
       "      <td>7.50</td>\n",
       "    </tr>\n",
       "    <tr>\n",
       "      <th>2</th>\n",
       "      <td>PREOE11</td>\n",
       "      <td>6.23</td>\n",
       "    </tr>\n",
       "    <tr>\n",
       "      <th>3</th>\n",
       "      <td>gender_Don't want to say</td>\n",
       "      <td>1.20</td>\n",
       "    </tr>\n",
       "  </tbody>\n",
       "</table>\n",
       "</div>"
      ],
      "text/plain": [
       "                   Features   VIF\n",
       "0                    PREOE7  7.88\n",
       "1                   bonding  7.50\n",
       "2                   PREOE11  6.23\n",
       "3  gender_Don't want to say  1.20"
      ]
     },
     "execution_count": 53,
     "metadata": {},
     "output_type": "execute_result"
    }
   ],
   "source": [
    "#Calculating the VIFs for the new model\n",
    "\n",
    "vif = pd.DataFrame()\n",
    "x = x_train_4\n",
    "vif['Features'] = x.columns\n",
    "vif['VIF'] = [variance_inflation_factor(x.values, i) for i in range(x.shape[1])]\n",
    "vif['VIF'] = round(vif['VIF'], 2)\n",
    "vif = vif.sort_values(by = 'VIF', ascending = False)\n",
    "vif"
   ]
  },
  {
   "cell_type": "markdown",
   "id": "a38bf7a6",
   "metadata": {},
   "source": [
    "As we can notice, variable 'gender_Don't want to say' has p-value > 0.05 and does not contribute to our research, thus we can drop it."
   ]
  },
  {
   "cell_type": "markdown",
   "id": "c06c6176",
   "metadata": {},
   "source": [
    "#### Rebuilding the model without 'gender_Don't want to say'"
   ]
  },
  {
   "cell_type": "code",
   "execution_count": 54,
   "id": "2debd659",
   "metadata": {},
   "outputs": [],
   "source": [
    "#Dropping \"gender_Don't want to say\"\n",
    "\n",
    "x_train_5 = x_train_lm4.drop([\"gender_Don't want to say\"], axis = 1)"
   ]
  },
  {
   "cell_type": "code",
   "execution_count": 55,
   "id": "0b435294",
   "metadata": {},
   "outputs": [
    {
     "name": "stdout",
     "output_type": "stream",
     "text": [
      "                            OLS Regression Results                            \n",
      "==============================================================================\n",
      "Dep. Variable:                   view   R-squared:                       0.203\n",
      "Model:                            OLS   Adj. R-squared:                  0.167\n",
      "Method:                 Least Squares   F-statistic:                     5.532\n",
      "Date:                Sat, 18 May 2024   Prob (F-statistic):            0.00191\n",
      "Time:                        15:54:43   Log-Likelihood:                 16.032\n",
      "No. Observations:                  69   AIC:                            -24.06\n",
      "Df Residuals:                      65   BIC:                            -15.13\n",
      "Df Model:                           3                                         \n",
      "Covariance Type:            nonrobust                                         \n",
      "==============================================================================\n",
      "                 coef    std err          t      P>|t|      [0.025      0.975]\n",
      "------------------------------------------------------------------------------\n",
      "const          0.2759      0.123      2.236      0.029       0.029       0.522\n",
      "PREOE7         0.2440      0.089      2.747      0.008       0.067       0.421\n",
      "bonding        0.2747      0.115      2.386      0.020       0.045       0.505\n",
      "PREOE11        0.1565      0.113      1.380      0.172      -0.070       0.383\n",
      "==============================================================================\n",
      "Omnibus:                        0.764   Durbin-Watson:                   1.669\n",
      "Prob(Omnibus):                  0.683   Jarque-Bera (JB):                0.878\n",
      "Skew:                          -0.188   Prob(JB):                        0.645\n",
      "Kurtosis:                       2.595   Cond. No.                         10.8\n",
      "==============================================================================\n",
      "\n",
      "Notes:\n",
      "[1] Standard Errors assume that the covariance matrix of the errors is correctly specified.\n"
     ]
    }
   ],
   "source": [
    "#Building a model\n",
    "\n",
    "x_train_lm5 = sm.add_constant(x_train_5)\n",
    "lm5 = sm.OLS(y_train, x_train_lm5).fit()\n",
    "print(lm5.summary())"
   ]
  },
  {
   "cell_type": "code",
   "execution_count": 56,
   "id": "f9fa2629",
   "metadata": {},
   "outputs": [],
   "source": [
    "#Dropping the constant term B0\n",
    "\n",
    "x_train_lm5 = x_train_lm5.drop(['const'], axis=1)"
   ]
  },
  {
   "cell_type": "code",
   "execution_count": 57,
   "id": "4bff1906",
   "metadata": {},
   "outputs": [
    {
     "data": {
      "text/html": [
       "<div>\n",
       "<style scoped>\n",
       "    .dataframe tbody tr th:only-of-type {\n",
       "        vertical-align: middle;\n",
       "    }\n",
       "\n",
       "    .dataframe tbody tr th {\n",
       "        vertical-align: top;\n",
       "    }\n",
       "\n",
       "    .dataframe thead th {\n",
       "        text-align: right;\n",
       "    }\n",
       "</style>\n",
       "<table border=\"1\" class=\"dataframe\">\n",
       "  <thead>\n",
       "    <tr style=\"text-align: right;\">\n",
       "      <th></th>\n",
       "      <th>Features</th>\n",
       "      <th>VIF</th>\n",
       "    </tr>\n",
       "  </thead>\n",
       "  <tbody>\n",
       "    <tr>\n",
       "      <th>0</th>\n",
       "      <td>PREOE7</td>\n",
       "      <td>7.48</td>\n",
       "    </tr>\n",
       "    <tr>\n",
       "      <th>1</th>\n",
       "      <td>bonding</td>\n",
       "      <td>7.13</td>\n",
       "    </tr>\n",
       "    <tr>\n",
       "      <th>2</th>\n",
       "      <td>PREOE11</td>\n",
       "      <td>6.08</td>\n",
       "    </tr>\n",
       "  </tbody>\n",
       "</table>\n",
       "</div>"
      ],
      "text/plain": [
       "  Features   VIF\n",
       "0   PREOE7  7.48\n",
       "1  bonding  7.13\n",
       "2  PREOE11  6.08"
      ]
     },
     "execution_count": 57,
     "metadata": {},
     "output_type": "execute_result"
    }
   ],
   "source": [
    "#Calculating the VIFs for the new model\n",
    "\n",
    "vif = pd.DataFrame()\n",
    "x = x_train_5\n",
    "vif['Features'] = x.columns\n",
    "vif['VIF'] = [variance_inflation_factor(x.values, i) for i in range(x.shape[1])]\n",
    "vif['VIF'] = round(vif['VIF'], 2)\n",
    "vif = vif.sort_values(by = 'VIF', ascending = False)\n",
    "vif"
   ]
  },
  {
   "cell_type": "markdown",
   "id": "8d95a58f",
   "metadata": {},
   "source": [
    "We will drop 'PREOE11' as it has p-value > 0.05."
   ]
  },
  {
   "cell_type": "markdown",
   "id": "4f48183f",
   "metadata": {},
   "source": [
    "#### Rebuilding the model without 'PREOE11'"
   ]
  },
  {
   "cell_type": "code",
   "execution_count": 58,
   "id": "760d0e76",
   "metadata": {},
   "outputs": [],
   "source": [
    "#Dropping 'PREOE11'\n",
    "\n",
    "x_train_6 = x_train_lm5.drop(['PREOE11'], axis = 1)"
   ]
  },
  {
   "cell_type": "code",
   "execution_count": 59,
   "id": "48522908",
   "metadata": {},
   "outputs": [
    {
     "name": "stdout",
     "output_type": "stream",
     "text": [
      "                            OLS Regression Results                            \n",
      "==============================================================================\n",
      "Dep. Variable:                   view   R-squared:                       0.180\n",
      "Model:                            OLS   Adj. R-squared:                  0.155\n",
      "Method:                 Least Squares   F-statistic:                     7.247\n",
      "Date:                Sat, 18 May 2024   Prob (F-statistic):            0.00143\n",
      "Time:                        15:54:43   Log-Likelihood:                 15.036\n",
      "No. Observations:                  69   AIC:                            -24.07\n",
      "Df Residuals:                      66   BIC:                            -17.37\n",
      "Df Model:                           2                                         \n",
      "Covariance Type:            nonrobust                                         \n",
      "==============================================================================\n",
      "                 coef    std err          t      P>|t|      [0.025      0.975]\n",
      "------------------------------------------------------------------------------\n",
      "const          0.3531      0.111      3.189      0.002       0.132       0.574\n",
      "PREOE7         0.2620      0.088      2.962      0.004       0.085       0.439\n",
      "bonding        0.2656      0.116      2.296      0.025       0.035       0.497\n",
      "==============================================================================\n",
      "Omnibus:                        1.239   Durbin-Watson:                   1.703\n",
      "Prob(Omnibus):                  0.538   Jarque-Bera (JB):                1.299\n",
      "Skew:                          -0.276   Prob(JB):                        0.522\n",
      "Kurtosis:                       2.618   Cond. No.                         9.46\n",
      "==============================================================================\n",
      "\n",
      "Notes:\n",
      "[1] Standard Errors assume that the covariance matrix of the errors is correctly specified.\n"
     ]
    }
   ],
   "source": [
    "#Building a model\n",
    "\n",
    "x_train_lm6 = sm.add_constant(x_train_6)\n",
    "lm6 = sm.OLS(y_train, x_train_lm6).fit()\n",
    "print(lm6.summary())"
   ]
  },
  {
   "cell_type": "markdown",
   "id": "3740490a",
   "metadata": {},
   "source": [
    "Model I:\n",
    "\n",
    "The VIFs and p-values are both within acceptable limits. Hence, we proceed to generate predictions using this model.\n",
    "\n",
    "- For each term, the p-value tests the null hypothesis that the coefficient is less than 0.05. A low p-value (< 0.05) suggests that the null hypothesis may be rejected.\n",
    "\n",
    "- Generally, if a VIF is more than 10, we have strong multicollinearity. In our scenario, VIFs < 5 indicate that we are in good shape and may continue with our regression.\n",
    "\n",
    "- R-squared is a handy 0 - 100% scale that assesses the strength of the association between our model and the dependent variable. And the R-square value is 0.180, or 18.0%.\n",
    "\n",
    "- The adjusted R-squared accounts for the model's number of terms. And we got 0.155, or 15.5%."
   ]
  },
  {
   "cell_type": "markdown",
   "id": "3d6102dd",
   "metadata": {},
   "source": [
    "# Step 6: Residual Analysis of the train data"
   ]
  },
  {
   "cell_type": "markdown",
   "id": "ae726762",
   "metadata": {},
   "source": [
    "Let's check our assumpitions of Linear Regression"
   ]
  },
  {
   "cell_type": "code",
   "execution_count": 60,
   "id": "1e5ada25",
   "metadata": {},
   "outputs": [],
   "source": [
    "x_train_rfe = sm.add_constant(x_train_rfe)"
   ]
  },
  {
   "cell_type": "code",
   "execution_count": 61,
   "id": "a0074d69",
   "metadata": {},
   "outputs": [],
   "source": [
    "#y train predicted\n",
    "\n",
    "y_train_pred = lm.predict(x_train_rfe)"
   ]
  },
  {
   "cell_type": "code",
   "execution_count": 62,
   "id": "a7d3c63e",
   "metadata": {
    "scrolled": true
   },
   "outputs": [
    {
     "data": {
      "image/png": "[encoded data removed]",
      "text/plain": [
       "<Figure size 432x288 with 1 Axes>"
      ]
     },
     "metadata": {
      "needs_background": "light"
     },
     "output_type": "display_data"
    }
   ],
   "source": [
    "# Plot the histogram of the error terms\n",
    "\n",
    "fig = plt.figure()\n",
    "sns.distplot((y_train - y_train_pred), bins = 20, color = 'green')\n",
    "plt.xlabel('Errors', fontsize = 18)\n",
    "plt.show()"
   ]
  },
  {
   "cell_type": "markdown",
   "id": "9b07b4b4",
   "metadata": {},
   "source": [
    "Error terms are nearly normally distributed. For this sample size, we do not completely expect a normally distribution, thus this can be acceptable."
   ]
  },
  {
   "cell_type": "markdown",
   "id": "7a74246d",
   "metadata": {},
   "source": [
    "# Step 7: Making Predictions"
   ]
  },
  {
   "cell_type": "markdown",
   "id": "05d59176",
   "metadata": {},
   "source": [
    "### Applying the scaling on the test sets"
   ]
  },
  {
   "cell_type": "code",
   "execution_count": 63,
   "id": "8b77761f",
   "metadata": {},
   "outputs": [
    {
     "data": {
      "text/html": [
       "<div>\n",
       "<style scoped>\n",
       "    .dataframe tbody tr th:only-of-type {\n",
       "        vertical-align: middle;\n",
       "    }\n",
       "\n",
       "    .dataframe tbody tr th {\n",
       "        vertical-align: top;\n",
       "    }\n",
       "\n",
       "    .dataframe thead th {\n",
       "        text-align: right;\n",
       "    }\n",
       "</style>\n",
       "<table border=\"1\" class=\"dataframe\">\n",
       "  <thead>\n",
       "    <tr style=\"text-align: right;\">\n",
       "      <th></th>\n",
       "      <th>view</th>\n",
       "      <th>perspective</th>\n",
       "      <th>value</th>\n",
       "      <th>action</th>\n",
       "      <th>PREOE5</th>\n",
       "      <th>PREOE6</th>\n",
       "      <th>PREOE7</th>\n",
       "      <th>PROE8</th>\n",
       "      <th>bonding</th>\n",
       "      <th>PREOE11</th>\n",
       "      <th>PREOE12</th>\n",
       "      <th>PREOE13</th>\n",
       "      <th>cause_not aware</th>\n",
       "      <th>cause_people's activities</th>\n",
       "      <th>gender_Don't want to say</th>\n",
       "      <th>gender_Girl</th>\n",
       "    </tr>\n",
       "  </thead>\n",
       "  <tbody>\n",
       "    <tr>\n",
       "      <th>0</th>\n",
       "      <td>1.00</td>\n",
       "      <td>0.666667</td>\n",
       "      <td>0.75</td>\n",
       "      <td>0.750</td>\n",
       "      <td>0.75</td>\n",
       "      <td>0.25</td>\n",
       "      <td>1.00</td>\n",
       "      <td>0.750000</td>\n",
       "      <td>1.0</td>\n",
       "      <td>0.50</td>\n",
       "      <td>0.00</td>\n",
       "      <td>0.250000</td>\n",
       "      <td>0</td>\n",
       "      <td>0</td>\n",
       "      <td>0</td>\n",
       "      <td>0</td>\n",
       "    </tr>\n",
       "    <tr>\n",
       "      <th>1</th>\n",
       "      <td>0.75</td>\n",
       "      <td>1.000000</td>\n",
       "      <td>0.75</td>\n",
       "      <td>0.500</td>\n",
       "      <td>1.00</td>\n",
       "      <td>1.00</td>\n",
       "      <td>1.00</td>\n",
       "      <td>0.750000</td>\n",
       "      <td>1.0</td>\n",
       "      <td>0.75</td>\n",
       "      <td>0.25</td>\n",
       "      <td>0.500000</td>\n",
       "      <td>0</td>\n",
       "      <td>0</td>\n",
       "      <td>0</td>\n",
       "      <td>0</td>\n",
       "    </tr>\n",
       "    <tr>\n",
       "      <th>2</th>\n",
       "      <td>1.00</td>\n",
       "      <td>0.666667</td>\n",
       "      <td>0.50</td>\n",
       "      <td>0.500</td>\n",
       "      <td>0.25</td>\n",
       "      <td>0.50</td>\n",
       "      <td>0.25</td>\n",
       "      <td>0.250000</td>\n",
       "      <td>1.0</td>\n",
       "      <td>0.50</td>\n",
       "      <td>0.25</td>\n",
       "      <td>0.674479</td>\n",
       "      <td>0</td>\n",
       "      <td>0</td>\n",
       "      <td>1</td>\n",
       "      <td>0</td>\n",
       "    </tr>\n",
       "    <tr>\n",
       "      <th>3</th>\n",
       "      <td>0.75</td>\n",
       "      <td>0.000000</td>\n",
       "      <td>1.00</td>\n",
       "      <td>0.625</td>\n",
       "      <td>0.50</td>\n",
       "      <td>0.75</td>\n",
       "      <td>0.50</td>\n",
       "      <td>0.500000</td>\n",
       "      <td>1.0</td>\n",
       "      <td>0.50</td>\n",
       "      <td>0.75</td>\n",
       "      <td>0.500000</td>\n",
       "      <td>0</td>\n",
       "      <td>0</td>\n",
       "      <td>0</td>\n",
       "      <td>0</td>\n",
       "    </tr>\n",
       "    <tr>\n",
       "      <th>4</th>\n",
       "      <td>1.00</td>\n",
       "      <td>1.000000</td>\n",
       "      <td>1.00</td>\n",
       "      <td>1.000</td>\n",
       "      <td>0.75</td>\n",
       "      <td>1.00</td>\n",
       "      <td>1.00</td>\n",
       "      <td>0.765306</td>\n",
       "      <td>1.0</td>\n",
       "      <td>0.75</td>\n",
       "      <td>0.00</td>\n",
       "      <td>0.750000</td>\n",
       "      <td>1</td>\n",
       "      <td>0</td>\n",
       "      <td>0</td>\n",
       "      <td>1</td>\n",
       "    </tr>\n",
       "  </tbody>\n",
       "</table>\n",
       "</div>"
      ],
      "text/plain": [
       "   view  perspective  value  action  PREOE5  PREOE6  PREOE7     PROE8  \\\n",
       "0  1.00     0.666667   0.75   0.750    0.75    0.25    1.00  0.750000   \n",
       "1  0.75     1.000000   0.75   0.500    1.00    1.00    1.00  0.750000   \n",
       "2  1.00     0.666667   0.50   0.500    0.25    0.50    0.25  0.250000   \n",
       "3  0.75     0.000000   1.00   0.625    0.50    0.75    0.50  0.500000   \n",
       "4  1.00     1.000000   1.00   1.000    0.75    1.00    1.00  0.765306   \n",
       "\n",
       "   bonding  PREOE11  PREOE12   PREOE13  cause_not aware  \\\n",
       "0      1.0     0.50     0.00  0.250000                0   \n",
       "1      1.0     0.75     0.25  0.500000                0   \n",
       "2      1.0     0.50     0.25  0.674479                0   \n",
       "3      1.0     0.50     0.75  0.500000                0   \n",
       "4      1.0     0.75     0.00  0.750000                1   \n",
       "\n",
       "   cause_people's activities  gender_Don't want to say  gender_Girl  \n",
       "0                          0                         0            0  \n",
       "1                          0                         0            0  \n",
       "2                          0                         1            0  \n",
       "3                          0                         0            0  \n",
       "4                          0                         0            1  "
      ]
     },
     "execution_count": 63,
     "metadata": {},
     "output_type": "execute_result"
    }
   ],
   "source": [
    "#Create a list of numeric variables\n",
    "\n",
    "num_vars = ['view','perspective','value','action','PREOE5','PREOE6','PREOE7','PROE8','bonding','PREOE11','PREOE12','PREOE13']\n",
    "\n",
    "survey[num_vars] = survey[num_vars].fillna(survey[num_vars].mean())\n",
    "\n",
    "#Fit on data\n",
    "\n",
    "survey[num_vars] = scaler.transform(survey[num_vars])\n",
    "survey.head()"
   ]
  },
  {
   "cell_type": "code",
   "execution_count": 64,
   "id": "cc8d8bb8",
   "metadata": {},
   "outputs": [
    {
     "data": {
      "text/html": [
       "<div>\n",
       "<style scoped>\n",
       "    .dataframe tbody tr th:only-of-type {\n",
       "        vertical-align: middle;\n",
       "    }\n",
       "\n",
       "    .dataframe tbody tr th {\n",
       "        vertical-align: top;\n",
       "    }\n",
       "\n",
       "    .dataframe thead th {\n",
       "        text-align: right;\n",
       "    }\n",
       "</style>\n",
       "<table border=\"1\" class=\"dataframe\">\n",
       "  <thead>\n",
       "    <tr style=\"text-align: right;\">\n",
       "      <th></th>\n",
       "      <th>perspective</th>\n",
       "      <th>value</th>\n",
       "      <th>action</th>\n",
       "      <th>PREOE5</th>\n",
       "      <th>PREOE6</th>\n",
       "      <th>PREOE7</th>\n",
       "      <th>PROE8</th>\n",
       "      <th>bonding</th>\n",
       "      <th>PREOE11</th>\n",
       "      <th>PREOE12</th>\n",
       "      <th>PREOE13</th>\n",
       "      <th>cause_not aware</th>\n",
       "      <th>cause_people's activities</th>\n",
       "      <th>gender_Don't want to say</th>\n",
       "      <th>gender_Girl</th>\n",
       "    </tr>\n",
       "  </thead>\n",
       "  <tbody>\n",
       "    <tr>\n",
       "      <th>count</th>\n",
       "      <td>99.000000</td>\n",
       "      <td>99.000000</td>\n",
       "      <td>99.000000</td>\n",
       "      <td>99.000000</td>\n",
       "      <td>99.000000</td>\n",
       "      <td>99.000000</td>\n",
       "      <td>99.000000</td>\n",
       "      <td>99.000000</td>\n",
       "      <td>99.000000</td>\n",
       "      <td>99.000000</td>\n",
       "      <td>99.000000</td>\n",
       "      <td>99.000000</td>\n",
       "      <td>99.000000</td>\n",
       "      <td>99.000000</td>\n",
       "      <td>99.000000</td>\n",
       "    </tr>\n",
       "    <tr>\n",
       "      <th>mean</th>\n",
       "      <td>0.602041</td>\n",
       "      <td>0.791667</td>\n",
       "      <td>0.679847</td>\n",
       "      <td>0.737245</td>\n",
       "      <td>0.817010</td>\n",
       "      <td>0.788660</td>\n",
       "      <td>0.765306</td>\n",
       "      <td>0.755102</td>\n",
       "      <td>0.578283</td>\n",
       "      <td>0.452020</td>\n",
       "      <td>0.674479</td>\n",
       "      <td>0.232323</td>\n",
       "      <td>0.030303</td>\n",
       "      <td>0.111111</td>\n",
       "      <td>0.414141</td>\n",
       "    </tr>\n",
       "    <tr>\n",
       "      <th>std</th>\n",
       "      <td>0.318223</td>\n",
       "      <td>0.222080</td>\n",
       "      <td>0.213590</td>\n",
       "      <td>0.263349</td>\n",
       "      <td>0.253837</td>\n",
       "      <td>0.272788</td>\n",
       "      <td>0.287531</td>\n",
       "      <td>0.211980</td>\n",
       "      <td>0.247169</td>\n",
       "      <td>0.287221</td>\n",
       "      <td>0.269920</td>\n",
       "      <td>0.424463</td>\n",
       "      <td>0.172292</td>\n",
       "      <td>0.315869</td>\n",
       "      <td>0.495080</td>\n",
       "    </tr>\n",
       "    <tr>\n",
       "      <th>min</th>\n",
       "      <td>0.000000</td>\n",
       "      <td>0.000000</td>\n",
       "      <td>0.000000</td>\n",
       "      <td>0.000000</td>\n",
       "      <td>0.000000</td>\n",
       "      <td>0.000000</td>\n",
       "      <td>0.000000</td>\n",
       "      <td>0.000000</td>\n",
       "      <td>0.000000</td>\n",
       "      <td>0.000000</td>\n",
       "      <td>0.000000</td>\n",
       "      <td>0.000000</td>\n",
       "      <td>0.000000</td>\n",
       "      <td>0.000000</td>\n",
       "      <td>0.000000</td>\n",
       "    </tr>\n",
       "    <tr>\n",
       "      <th>25%</th>\n",
       "      <td>0.333333</td>\n",
       "      <td>0.750000</td>\n",
       "      <td>0.500000</td>\n",
       "      <td>0.500000</td>\n",
       "      <td>0.750000</td>\n",
       "      <td>0.750000</td>\n",
       "      <td>0.625000</td>\n",
       "      <td>0.750000</td>\n",
       "      <td>0.500000</td>\n",
       "      <td>0.250000</td>\n",
       "      <td>0.500000</td>\n",
       "      <td>0.000000</td>\n",
       "      <td>0.000000</td>\n",
       "      <td>0.000000</td>\n",
       "      <td>0.000000</td>\n",
       "    </tr>\n",
       "    <tr>\n",
       "      <th>50%</th>\n",
       "      <td>0.666667</td>\n",
       "      <td>0.750000</td>\n",
       "      <td>0.750000</td>\n",
       "      <td>0.750000</td>\n",
       "      <td>1.000000</td>\n",
       "      <td>0.788660</td>\n",
       "      <td>0.750000</td>\n",
       "      <td>0.750000</td>\n",
       "      <td>0.500000</td>\n",
       "      <td>0.500000</td>\n",
       "      <td>0.750000</td>\n",
       "      <td>0.000000</td>\n",
       "      <td>0.000000</td>\n",
       "      <td>0.000000</td>\n",
       "      <td>0.000000</td>\n",
       "    </tr>\n",
       "    <tr>\n",
       "      <th>75%</th>\n",
       "      <td>0.833333</td>\n",
       "      <td>1.000000</td>\n",
       "      <td>0.750000</td>\n",
       "      <td>1.000000</td>\n",
       "      <td>1.000000</td>\n",
       "      <td>1.000000</td>\n",
       "      <td>1.000000</td>\n",
       "      <td>1.000000</td>\n",
       "      <td>0.750000</td>\n",
       "      <td>0.625000</td>\n",
       "      <td>0.750000</td>\n",
       "      <td>0.000000</td>\n",
       "      <td>0.000000</td>\n",
       "      <td>0.000000</td>\n",
       "      <td>1.000000</td>\n",
       "    </tr>\n",
       "    <tr>\n",
       "      <th>max</th>\n",
       "      <td>1.000000</td>\n",
       "      <td>1.000000</td>\n",
       "      <td>1.000000</td>\n",
       "      <td>1.000000</td>\n",
       "      <td>1.000000</td>\n",
       "      <td>1.000000</td>\n",
       "      <td>1.000000</td>\n",
       "      <td>1.000000</td>\n",
       "      <td>1.000000</td>\n",
       "      <td>1.000000</td>\n",
       "      <td>1.000000</td>\n",
       "      <td>1.000000</td>\n",
       "      <td>1.000000</td>\n",
       "      <td>1.000000</td>\n",
       "      <td>1.000000</td>\n",
       "    </tr>\n",
       "  </tbody>\n",
       "</table>\n",
       "</div>"
      ],
      "text/plain": [
       "       perspective      value     action     PREOE5     PREOE6     PREOE7  \\\n",
       "count    99.000000  99.000000  99.000000  99.000000  99.000000  99.000000   \n",
       "mean      0.602041   0.791667   0.679847   0.737245   0.817010   0.788660   \n",
       "std       0.318223   0.222080   0.213590   0.263349   0.253837   0.272788   \n",
       "min       0.000000   0.000000   0.000000   0.000000   0.000000   0.000000   \n",
       "25%       0.333333   0.750000   0.500000   0.500000   0.750000   0.750000   \n",
       "50%       0.666667   0.750000   0.750000   0.750000   1.000000   0.788660   \n",
       "75%       0.833333   1.000000   0.750000   1.000000   1.000000   1.000000   \n",
       "max       1.000000   1.000000   1.000000   1.000000   1.000000   1.000000   \n",
       "\n",
       "           PROE8    bonding    PREOE11    PREOE12    PREOE13  cause_not aware  \\\n",
       "count  99.000000  99.000000  99.000000  99.000000  99.000000        99.000000   \n",
       "mean    0.765306   0.755102   0.578283   0.452020   0.674479         0.232323   \n",
       "std     0.287531   0.211980   0.247169   0.287221   0.269920         0.424463   \n",
       "min     0.000000   0.000000   0.000000   0.000000   0.000000         0.000000   \n",
       "25%     0.625000   0.750000   0.500000   0.250000   0.500000         0.000000   \n",
       "50%     0.750000   0.750000   0.500000   0.500000   0.750000         0.000000   \n",
       "75%     1.000000   1.000000   0.750000   0.625000   0.750000         0.000000   \n",
       "max     1.000000   1.000000   1.000000   1.000000   1.000000         1.000000   \n",
       "\n",
       "       cause_people's activities  gender_Don't want to say  gender_Girl  \n",
       "count                  99.000000                 99.000000    99.000000  \n",
       "mean                    0.030303                  0.111111     0.414141  \n",
       "std                     0.172292                  0.315869     0.495080  \n",
       "min                     0.000000                  0.000000     0.000000  \n",
       "25%                     0.000000                  0.000000     0.000000  \n",
       "50%                     0.000000                  0.000000     0.000000  \n",
       "75%                     0.000000                  0.000000     1.000000  \n",
       "max                     1.000000                  1.000000     1.000000  "
      ]
     },
     "execution_count": 64,
     "metadata": {},
     "output_type": "execute_result"
    }
   ],
   "source": [
    "#Dividing into X_test and y_test\n",
    "\n",
    "y_test = survey.pop('view')\n",
    "x_test = survey\n",
    "x_test.describe()"
   ]
  },
  {
   "cell_type": "code",
   "execution_count": 65,
   "id": "82492775",
   "metadata": {},
   "outputs": [
    {
     "data": {
      "text/plain": [
       "Index(['value', 'action', 'PREOE6', 'PREOE7', 'bonding', 'PREOE11',\n",
       "       'gender_Don't want to say'],\n",
       "      dtype='object')"
      ]
     },
     "execution_count": 65,
     "metadata": {},
     "output_type": "execute_result"
    }
   ],
   "source": [
    "x_train_rfe = x_train_rfe.drop('const',axis=1)\n",
    "x_train_rfe.columns"
   ]
  },
  {
   "cell_type": "code",
   "execution_count": 66,
   "id": "5cdeb505",
   "metadata": {
    "scrolled": false
   },
   "outputs": [
    {
     "data": {
      "text/html": [
       "<div>\n",
       "<style scoped>\n",
       "    .dataframe tbody tr th:only-of-type {\n",
       "        vertical-align: middle;\n",
       "    }\n",
       "\n",
       "    .dataframe tbody tr th {\n",
       "        vertical-align: top;\n",
       "    }\n",
       "\n",
       "    .dataframe thead th {\n",
       "        text-align: right;\n",
       "    }\n",
       "</style>\n",
       "<table border=\"1\" class=\"dataframe\">\n",
       "  <thead>\n",
       "    <tr style=\"text-align: right;\">\n",
       "      <th></th>\n",
       "      <th>const</th>\n",
       "      <th>value</th>\n",
       "      <th>action</th>\n",
       "      <th>PREOE6</th>\n",
       "      <th>PREOE7</th>\n",
       "      <th>bonding</th>\n",
       "      <th>PREOE11</th>\n",
       "      <th>gender_Don't want to say</th>\n",
       "    </tr>\n",
       "  </thead>\n",
       "  <tbody>\n",
       "    <tr>\n",
       "      <th>0</th>\n",
       "      <td>1.0</td>\n",
       "      <td>0.75</td>\n",
       "      <td>0.750</td>\n",
       "      <td>0.25</td>\n",
       "      <td>1.00</td>\n",
       "      <td>1.0</td>\n",
       "      <td>0.50</td>\n",
       "      <td>0</td>\n",
       "    </tr>\n",
       "    <tr>\n",
       "      <th>1</th>\n",
       "      <td>1.0</td>\n",
       "      <td>0.75</td>\n",
       "      <td>0.500</td>\n",
       "      <td>1.00</td>\n",
       "      <td>1.00</td>\n",
       "      <td>1.0</td>\n",
       "      <td>0.75</td>\n",
       "      <td>0</td>\n",
       "    </tr>\n",
       "    <tr>\n",
       "      <th>2</th>\n",
       "      <td>1.0</td>\n",
       "      <td>0.50</td>\n",
       "      <td>0.500</td>\n",
       "      <td>0.50</td>\n",
       "      <td>0.25</td>\n",
       "      <td>1.0</td>\n",
       "      <td>0.50</td>\n",
       "      <td>1</td>\n",
       "    </tr>\n",
       "    <tr>\n",
       "      <th>3</th>\n",
       "      <td>1.0</td>\n",
       "      <td>1.00</td>\n",
       "      <td>0.625</td>\n",
       "      <td>0.75</td>\n",
       "      <td>0.50</td>\n",
       "      <td>1.0</td>\n",
       "      <td>0.50</td>\n",
       "      <td>0</td>\n",
       "    </tr>\n",
       "    <tr>\n",
       "      <th>4</th>\n",
       "      <td>1.0</td>\n",
       "      <td>1.00</td>\n",
       "      <td>1.000</td>\n",
       "      <td>1.00</td>\n",
       "      <td>1.00</td>\n",
       "      <td>1.0</td>\n",
       "      <td>0.75</td>\n",
       "      <td>0</td>\n",
       "    </tr>\n",
       "  </tbody>\n",
       "</table>\n",
       "</div>"
      ],
      "text/plain": [
       "   const  value  action  PREOE6  PREOE7  bonding  PREOE11  \\\n",
       "0    1.0   0.75   0.750    0.25    1.00      1.0     0.50   \n",
       "1    1.0   0.75   0.500    1.00    1.00      1.0     0.75   \n",
       "2    1.0   0.50   0.500    0.50    0.25      1.0     0.50   \n",
       "3    1.0   1.00   0.625    0.75    0.50      1.0     0.50   \n",
       "4    1.0   1.00   1.000    1.00    1.00      1.0     0.75   \n",
       "\n",
       "   gender_Don't want to say  \n",
       "0                         0  \n",
       "1                         0  \n",
       "2                         1  \n",
       "3                         0  \n",
       "4                         0  "
      ]
     },
     "execution_count": 66,
     "metadata": {},
     "output_type": "execute_result"
    }
   ],
   "source": [
    "#Using our model to make predictions\n",
    "\n",
    "# Creating x_test_new dataframe by dropping variables from x_test\n",
    "x_test_new = x_test[x_train_rfe.columns]\n",
    "\n",
    "# Adding a constant variable \n",
    "x_test_new = sm.add_constant(x_test_new)\n",
    "x_test_new.head()"
   ]
  },
  {
   "cell_type": "code",
   "execution_count": 67,
   "id": "aef189aa",
   "metadata": {},
   "outputs": [],
   "source": [
    "#Making predictions\n",
    "\n",
    "y_pred = lm.predict(x_test_new)"
   ]
  },
  {
   "cell_type": "markdown",
   "id": "f011e702",
   "metadata": {},
   "source": [
    "### Finding R-squared and Adjusted R-Squared for Test set"
   ]
  },
  {
   "cell_type": "code",
   "execution_count": 68,
   "id": "d0b65b8d",
   "metadata": {},
   "outputs": [
    {
     "name": "stdout",
     "output_type": "stream",
     "text": [
      "y_test shape: (99,)\n",
      "y_pred shape: (99,)\n"
     ]
    }
   ],
   "source": [
    "print('y_test shape:', y_test.shape)\n",
    "print('y_pred shape:', y_pred.shape)"
   ]
  },
  {
   "cell_type": "code",
   "execution_count": 69,
   "id": "4ef0bab2",
   "metadata": {},
   "outputs": [
    {
     "data": {
      "text/plain": [
       "0.19436530420708786"
      ]
     },
     "execution_count": 69,
     "metadata": {},
     "output_type": "execute_result"
    }
   ],
   "source": [
    "#Evaluating R-square\n",
    "\n",
    "from sklearn.metrics import r2_score\n",
    "r2_score(y_test,y_pred)"
   ]
  },
  {
   "cell_type": "markdown",
   "id": "9090c33b",
   "metadata": {},
   "source": [
    "### Adjusted R^2\n",
    "\n",
    "$ adj r2 = 1 - (1-R2)*\\frac{N-1}{N-p-1} $\n",
    "\n",
    "N is the sample size, meaning the number of rows we would have in the data set, and p is the number of predictor variables."
   ]
  },
  {
   "cell_type": "code",
   "execution_count": 70,
   "id": "252150f0",
   "metadata": {},
   "outputs": [
    {
     "data": {
      "text/plain": [
       "(99, 8)"
      ]
     },
     "execution_count": 70,
     "metadata": {},
     "output_type": "execute_result"
    }
   ],
   "source": [
    "x_test_new.shape"
   ]
  },
  {
   "cell_type": "code",
   "execution_count": 71,
   "id": "6fab046a",
   "metadata": {},
   "outputs": [
    {
     "name": "stdout",
     "output_type": "stream",
     "text": [
      "0.1323934\n"
     ]
    }
   ],
   "source": [
    "Adj_r2 = 1-(1-0.1943653)*(99-1)/(99-7-1)\n",
    "print(Adj_r2)"
   ]
  },
  {
   "cell_type": "markdown",
   "id": "9bea652b",
   "metadata": {},
   "source": [
    "# Step 8: Model Evaluation"
   ]
  },
  {
   "cell_type": "code",
   "execution_count": 72,
   "id": "83f073d7",
   "metadata": {},
   "outputs": [
    {
     "data": {
      "text/plain": [
       "Text(0, 0.5, 'y_pred')"
      ]
     },
     "execution_count": 72,
     "metadata": {},
     "output_type": "execute_result"
    },
    {
     "data": {
      "text/plain": [
       "<Figure size 432x288 with 0 Axes>"
      ]
     },
     "metadata": {},
     "output_type": "display_data"
    },
    {
     "data": {
      "image/png": "[encoded data removed]",
      "text/plain": [
       "<Figure size 1440x720 with 1 Axes>"
      ]
     },
     "metadata": {
      "needs_background": "light"
     },
     "output_type": "display_data"
    }
   ],
   "source": [
    "# Plotting y_test and y_pred to understand the spread\n",
    "\n",
    "fig = plt.figure()\n",
    "plt.figure(figsize=(20,10))\n",
    "plt.scatter(y_test, y_pred, color = 'Red')\n",
    "fig.suptitle('y_test vs y_pred', fontsize=20)\n",
    "plt.xlabel('y_test', fontsize=15)\n",
    "plt.ylabel('y_pred', fontsize=15)"
   ]
  },
  {
   "cell_type": "code",
   "execution_count": 73,
   "id": "88c73882",
   "metadata": {},
   "outputs": [
    {
     "data": {
      "image/png": "[encoded data removed]",
      "text/plain": [
       "<Figure size 1440x720 with 1 Axes>"
      ]
     },
     "metadata": {
      "needs_background": "light"
     },
     "output_type": "display_data"
    }
   ],
   "source": [
    "#Visualising the fit on the test set\n",
    "\n",
    "#Regression plot\n",
    "\n",
    "plt.figure(figsize=(20,10))\n",
    "sns.regplot(x=y_test, y=y_pred, scatter_kws={\"color\": \"blue\"}, line_kws={\"color\": \"red\"})\n",
    "\n",
    "plt.title('y_test vs y_pred', fontsize=20)\n",
    "plt.xlabel('y_test', fontsize=15)\n",
    "plt.ylabel('y_pred', fontsize=15)\n",
    "plt.show()"
   ]
  },
  {
   "cell_type": "markdown",
   "id": "33adc468",
   "metadata": {},
   "source": [
    "The equation of our best fitted line is:\n",
    "\n",
    "view = 0.3531 + 0.2656*bonding + 0.2620*PREOE7"
   ]
  },
  {
   "cell_type": "markdown",
   "id": "06bf4032",
   "metadata": {},
   "source": [
    "# Conclusion:"
   ]
  },
  {
   "cell_type": "markdown",
   "id": "51f2c243",
   "metadata": {},
   "source": [
    "### Analysis on the problem:"
   ]
  },
  {
   "cell_type": "markdown",
   "id": "d476a317",
   "metadata": {},
   "source": [
    "The major variables influencing the 'view' are:\n",
    "\n",
    "- Bonding: 0.2656\n",
    "- PREOE7: 0.2620 (this is not relevant to our research/ hypothesis)\n",
    "\n",
    "The coefficient value represents how much the dependent variable changes when the independent variable is changed by one unit while the other variables in the model remain constant.\n",
    "\n",
    "- We can observe that the Bonding variable has the largest coefficient (0.2656), which implies that an increase of family-child bonding by one unit increases the positive view of children on the earth/the environment by 0.2656 units.\n",
    "\n",
    "- Other variables that have a significant impact on the level of view is PREOE7.\n",
    "\n",
    "- We can also notice that these variables have positive coefficients only."
   ]
  },
  {
   "cell_type": "markdown",
   "id": "b4c87850",
   "metadata": {},
   "source": [
    "### Analysis Comparison between Train model and Test:"
   ]
  },
  {
   "cell_type": "markdown",
   "id": "9ca4efa3",
   "metadata": {},
   "source": [
    "- Train - R^2: 0.180\n",
    "- Train - Adjusted R^2: 0.155\n",
    "- Test - R^2: 0.1944\n",
    "- Test - Adjusted R^2: 0.1324\n",
    "- Difference in R^2 between Train and Test: 1.44%\n",
    "- Difference in adjusted R^2 between Train and Test: 2.26%\n",
    "\n",
    "Our R-squared score is not really good, ranging outside of the range 70 and 90%. However, this is still an acceptable model with moderate correlation (0.2656) as we are addressing the people's perspective and the difference between R^2 and adjusted R^2 among train and test fall below 5%.\n",
    "\n",
    "To improve this model, we need further research and additional variables that affect childrens' perspective on the environment and their family bonding such as parental attitudes, parent-child communication, socialeconomic status, cultural background, education level, etc. (acknowledge in this research limitations)."
   ]
  },
  {
   "cell_type": "markdown",
   "id": "7d462dd6",
   "metadata": {},
   "source": [
    "### Analytical Goals:"
   ]
  },
  {
   "cell_type": "markdown",
   "id": "3c4a7e26",
   "metadata": {},
   "source": [
    "- Bonding is an important aspect in the perception of children about the environment.\n",
    "\n",
    "- The level of awareness is directly proportional to the level of family-child bonding."
   ]
  }
 ],
 "metadata": {
  "kernelspec": {
   "display_name": "Python 3 (ipykernel)",
   "language": "python",
   "name": "python3"
  },
  "language_info": {
   "codemirror_mode": {
    "name": "ipython",
    "version": 3
   },
   "file_extension": ".py",
   "mimetype": "text/x-python",
   "name": "python",
   "nbconvert_exporter": "python",
   "pygments_lexer": "ipython3",
   "version": "3.9.12"
  }
 },
 "nbformat": 4,
 "nbformat_minor": 5
}
